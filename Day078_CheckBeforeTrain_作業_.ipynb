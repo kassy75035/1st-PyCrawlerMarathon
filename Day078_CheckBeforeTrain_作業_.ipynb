{
  "nbformat": 4,
  "nbformat_minor": 0,
  "metadata": {
    "kernelspec": {
      "display_name": "Python 3",
      "language": "python",
      "name": "python3"
    },
    "language_info": {
      "codemirror_mode": {
        "name": "ipython",
        "version": 3
      },
      "file_extension": ".py",
      "mimetype": "text/x-python",
      "name": "python",
      "nbconvert_exporter": "python",
      "pygments_lexer": "ipython3",
      "version": "3.6.5"
    },
    "colab": {
      "name": "Day078_CheckBeforeTrain_作業 .ipynb",
      "provenance": [],
      "collapsed_sections": [],
      "include_colab_link": true
    },
    "accelerator": "GPU"
  },
  "cells": [
    {
      "cell_type": "markdown",
      "metadata": {
        "id": "view-in-github",
        "colab_type": "text"
      },
      "source": [
        "<a href=\"https://colab.research.google.com/github/kassy75035/1st-PyCrawlerMarathon/blob/master/Day078_CheckBeforeTrain_%E4%BD%9C%E6%A5%AD_.ipynb\" target=\"_parent\"><img src=\"https://colab.research.google.com/assets/colab-badge.svg\" alt=\"Open In Colab\"/></a>"
      ]
    },
    {
      "cell_type": "markdown",
      "metadata": {
        "id": "auEAuEgT4oXE"
      },
      "source": [
        "## Work\n",
        "1. 請嘗試將 preproc_x 替換成以每筆資料的 min/max 進行標準化至 -1 ~ 1 間，再進行訓練\n",
        "2. 請嘗試將 mlp 疊更深 (e.g 5~10 層)，進行訓練後觀察 learning curve 的走勢\n",
        "3. (optional) 請改用 GPU 進行訓練 (可善用 google colab)，比較使用 CPU 與 GPU 的訓練速度"
      ]
    },
    {
      "cell_type": "code",
      "metadata": {
        "id": "L0HSsOA-4oXE",
        "colab": {
          "base_uri": "https://localhost:8080/"
        },
        "outputId": "30a3c916-5624-495e-d751-fd9779f31fdd"
      },
      "source": [
        "## \n",
        "\"\"\"\n",
        "Your code here (optional)\n",
        "確認硬體資源\n",
        "\"\"\"\n",
        "!nvidia-smi"
      ],
      "execution_count": 1,
      "outputs": [
        {
          "output_type": "stream",
          "name": "stdout",
          "text": [
            "Mon Feb 21 05:07:43 2022       \n",
            "+-----------------------------------------------------------------------------+\n",
            "| NVIDIA-SMI 460.32.03    Driver Version: 460.32.03    CUDA Version: 11.2     |\n",
            "|-------------------------------+----------------------+----------------------+\n",
            "| GPU  Name        Persistence-M| Bus-Id        Disp.A | Volatile Uncorr. ECC |\n",
            "| Fan  Temp  Perf  Pwr:Usage/Cap|         Memory-Usage | GPU-Util  Compute M. |\n",
            "|                               |                      |               MIG M. |\n",
            "|===============================+======================+======================|\n",
            "|   0  Tesla K80           Off  | 00000000:00:04.0 Off |                    0 |\n",
            "| N/A   37C    P8    28W / 149W |      0MiB / 11441MiB |      0%      Default |\n",
            "|                               |                      |                  N/A |\n",
            "+-------------------------------+----------------------+----------------------+\n",
            "                                                                               \n",
            "+-----------------------------------------------------------------------------+\n",
            "| Processes:                                                                  |\n",
            "|  GPU   GI   CI        PID   Type   Process name                  GPU Memory |\n",
            "|        ID   ID                                                   Usage      |\n",
            "|=============================================================================|\n",
            "|  No running processes found                                                 |\n",
            "+-----------------------------------------------------------------------------+\n"
          ]
        }
      ]
    },
    {
      "cell_type": "code",
      "metadata": {
        "id": "wujF_rVq4oXF"
      },
      "source": [
        "import os\n",
        "from tensorflow import keras\n",
        "\n",
        "# 請嘗試設定 GPU：os.environ\n"
      ],
      "execution_count": 3,
      "outputs": []
    },
    {
      "cell_type": "code",
      "metadata": {
        "id": "mD7ScVX24oXF",
        "colab": {
          "base_uri": "https://localhost:8080/"
        },
        "outputId": "d1b13a80-e198-4eb9-9fd0-c7816a07f015"
      },
      "source": [
        "train, test = keras.datasets.cifar10.load_data()"
      ],
      "execution_count": 4,
      "outputs": [
        {
          "output_type": "stream",
          "name": "stdout",
          "text": [
            "Downloading data from https://www.cs.toronto.edu/~kriz/cifar-10-python.tar.gz\n",
            "170500096/170498071 [==============================] - 2s 0us/step\n",
            "170508288/170498071 [==============================] - 2s 0us/step\n"
          ]
        }
      ]
    },
    {
      "cell_type": "code",
      "metadata": {
        "id": "cv2Wknx_4oXF"
      },
      "source": [
        "## 資料前處理\n",
        "\"\"\"\n",
        "Your code here\n",
        "\"\"\"\n",
        "from keras.utils import np_utils\n",
        "def preproc_x(x, flatten=True):\n",
        "    x = ( x / 255. ) * 2 - 1\n",
        "    if flatten:\n",
        "        x = x.reshape((len(x), -1))\n",
        "    return x\n",
        "\n",
        "def preproc_y(y, num_classes=10):\n",
        "    if y.shape[-1] == 1:\n",
        "        y = np_utils.to_categorical(y, num_classes)\n",
        "    return y    "
      ],
      "execution_count": 9,
      "outputs": []
    },
    {
      "cell_type": "code",
      "metadata": {
        "id": "zp2WdT4d4oXF"
      },
      "source": [
        "x_train, y_train = train\n",
        "x_test, y_test = test\n",
        "\n",
        "# Preproc the inputs\n",
        "x_train = preproc_x(x_train)\n",
        "x_test = preproc_x(x_test)\n",
        "\n",
        "# Preprc the outputs\n",
        "y_train = preproc_y(y_train)\n",
        "y_test = preproc_y(y_test)"
      ],
      "execution_count": 10,
      "outputs": []
    },
    {
      "cell_type": "code",
      "metadata": {
        "id": "KBj2NiDK4oXF",
        "colab": {
          "base_uri": "https://localhost:8080/"
        },
        "outputId": "f917ed39-47f3-4738-e62c-3617a6efab6a"
      },
      "source": [
        "\"\"\"Code Here\n",
        "建立你的神經網路\n",
        "\"\"\"\n",
        "def build_mlp(input_shape, output_units=10, num_neurons=[512, 256, 128]):\n",
        "    input_layer = keras.layers.Input(input_shape)\n",
        "    \n",
        "    for i, n_units in enumerate(num_neurons):\n",
        "        if i == 0:\n",
        "            x = keras.layers.Dense(units=n_units, activation=\"relu\", name=\"hidden_layer\"+str(i+1))(input_layer)\n",
        "        else:\n",
        "            x = keras.layers.Dense(units=n_units, activation=\"relu\", name=\"hidden_layer\"+str(i+1))(x)\n",
        "    \n",
        "    out = keras.layers.Dense(units=output_units, activation=\"softmax\", name=\"output\")(x)\n",
        "    \n",
        "    model = keras.models.Model(inputs=[input_layer], outputs=[out])\n",
        "    return model\n",
        "\n",
        "model = build_mlp(input_shape=x_train.shape[1:])\n",
        "model.summary()"
      ],
      "execution_count": 11,
      "outputs": [
        {
          "output_type": "stream",
          "name": "stdout",
          "text": [
            "Model: \"model\"\n",
            "_________________________________________________________________\n",
            " Layer (type)                Output Shape              Param #   \n",
            "=================================================================\n",
            " input_1 (InputLayer)        [(None, 3072)]            0         \n",
            "                                                                 \n",
            " hidden_layer1 (Dense)       (None, 512)               1573376   \n",
            "                                                                 \n",
            " hidden_layer2 (Dense)       (None, 256)               131328    \n",
            "                                                                 \n",
            " hidden_layer3 (Dense)       (None, 128)               32896     \n",
            "                                                                 \n",
            " output (Dense)              (None, 10)                1290      \n",
            "                                                                 \n",
            "=================================================================\n",
            "Total params: 1,738,890\n",
            "Trainable params: 1,738,890\n",
            "Non-trainable params: 0\n",
            "_________________________________________________________________\n"
          ]
        }
      ]
    },
    {
      "cell_type": "code",
      "metadata": {
        "id": "uejU37q-4oXF"
      },
      "source": [
        "## 超參數設定\n",
        "LEARNING_RATE = 0.001\n",
        "EPOCHS = 100\n",
        "BATCH_SIZE = 256"
      ],
      "execution_count": 12,
      "outputs": []
    },
    {
      "cell_type": "code",
      "metadata": {
        "id": "FePHihT34oXG",
        "colab": {
          "base_uri": "https://localhost:8080/"
        },
        "outputId": "ceb10afa-0a58-4bf7-b0de-a8f80a24ec8f"
      },
      "source": [
        "optimizer = keras.optimizers.Adam(lr=LEARNING_RATE)\n",
        "model.compile(loss=\"categorical_crossentropy\", metrics=[\"accuracy\"], optimizer=optimizer)"
      ],
      "execution_count": 13,
      "outputs": [
        {
          "output_type": "stream",
          "name": "stderr",
          "text": [
            "/usr/local/lib/python3.7/dist-packages/keras/optimizer_v2/adam.py:105: UserWarning: The `lr` argument is deprecated, use `learning_rate` instead.\n",
            "  super(Adam, self).__init__(name, **kwargs)\n"
          ]
        }
      ]
    },
    {
      "cell_type": "code",
      "metadata": {
        "id": "LmLgZXCQ4oXG",
        "outputId": "05bef230-fd11-4d07-9c0a-3e28581ecde7",
        "colab": {
          "base_uri": "https://localhost:8080/"
        }
      },
      "source": [
        "model.fit(x_train, y_train, \n",
        "          epochs=EPOCHS, \n",
        "          batch_size=BATCH_SIZE, \n",
        "          validation_data=(x_test, y_test), \n",
        "          shuffle=True)"
      ],
      "execution_count": 14,
      "outputs": [
        {
          "output_type": "stream",
          "name": "stdout",
          "text": [
            "Epoch 1/100\n",
            "196/196 [==============================] - 4s 7ms/step - loss: 1.6579 - accuracy: 0.4146 - val_loss: 1.5208 - val_accuracy: 0.4609\n",
            "Epoch 2/100\n",
            "196/196 [==============================] - 1s 6ms/step - loss: 1.4321 - accuracy: 0.4969 - val_loss: 1.4515 - val_accuracy: 0.4804\n",
            "Epoch 3/100\n",
            "196/196 [==============================] - 1s 6ms/step - loss: 1.3172 - accuracy: 0.5383 - val_loss: 1.4212 - val_accuracy: 0.5025\n",
            "Epoch 4/100\n",
            "196/196 [==============================] - 1s 6ms/step - loss: 1.2232 - accuracy: 0.5736 - val_loss: 1.3817 - val_accuracy: 0.5160\n",
            "Epoch 5/100\n",
            "196/196 [==============================] - 1s 6ms/step - loss: 1.1313 - accuracy: 0.6022 - val_loss: 1.3984 - val_accuracy: 0.5169\n",
            "Epoch 6/100\n",
            "196/196 [==============================] - 1s 6ms/step - loss: 1.0568 - accuracy: 0.6265 - val_loss: 1.3724 - val_accuracy: 0.5267\n",
            "Epoch 7/100\n",
            "196/196 [==============================] - 1s 6ms/step - loss: 0.9695 - accuracy: 0.6588 - val_loss: 1.3963 - val_accuracy: 0.5279\n",
            "Epoch 8/100\n",
            "196/196 [==============================] - 1s 6ms/step - loss: 0.8939 - accuracy: 0.6857 - val_loss: 1.4125 - val_accuracy: 0.5340\n",
            "Epoch 9/100\n",
            "196/196 [==============================] - 1s 6ms/step - loss: 0.8201 - accuracy: 0.7101 - val_loss: 1.4593 - val_accuracy: 0.5332\n",
            "Epoch 10/100\n",
            "196/196 [==============================] - 1s 6ms/step - loss: 0.7442 - accuracy: 0.7365 - val_loss: 1.5441 - val_accuracy: 0.5360\n",
            "Epoch 11/100\n",
            "196/196 [==============================] - 1s 6ms/step - loss: 0.6831 - accuracy: 0.7592 - val_loss: 1.5862 - val_accuracy: 0.5286\n",
            "Epoch 12/100\n",
            "196/196 [==============================] - 1s 6ms/step - loss: 0.6152 - accuracy: 0.7824 - val_loss: 1.7139 - val_accuracy: 0.5246\n",
            "Epoch 13/100\n",
            "196/196 [==============================] - 1s 5ms/step - loss: 0.5464 - accuracy: 0.8093 - val_loss: 1.7628 - val_accuracy: 0.5310\n",
            "Epoch 14/100\n",
            "196/196 [==============================] - 1s 6ms/step - loss: 0.4889 - accuracy: 0.8287 - val_loss: 1.8304 - val_accuracy: 0.5328\n",
            "Epoch 15/100\n",
            "196/196 [==============================] - 1s 6ms/step - loss: 0.4424 - accuracy: 0.8444 - val_loss: 1.9019 - val_accuracy: 0.5315\n",
            "Epoch 16/100\n",
            "196/196 [==============================] - 1s 6ms/step - loss: 0.4035 - accuracy: 0.8585 - val_loss: 2.0455 - val_accuracy: 0.5220\n",
            "Epoch 17/100\n",
            "196/196 [==============================] - 1s 6ms/step - loss: 0.3703 - accuracy: 0.8708 - val_loss: 2.1303 - val_accuracy: 0.5263\n",
            "Epoch 18/100\n",
            "196/196 [==============================] - 1s 6ms/step - loss: 0.3210 - accuracy: 0.8892 - val_loss: 2.3152 - val_accuracy: 0.5277\n",
            "Epoch 19/100\n",
            "196/196 [==============================] - 1s 6ms/step - loss: 0.2867 - accuracy: 0.9002 - val_loss: 2.3242 - val_accuracy: 0.5260\n",
            "Epoch 20/100\n",
            "196/196 [==============================] - 1s 6ms/step - loss: 0.2805 - accuracy: 0.9029 - val_loss: 2.4155 - val_accuracy: 0.5287\n",
            "Epoch 21/100\n",
            "196/196 [==============================] - 1s 6ms/step - loss: 0.2709 - accuracy: 0.9059 - val_loss: 2.5971 - val_accuracy: 0.5210\n",
            "Epoch 22/100\n",
            "196/196 [==============================] - 1s 6ms/step - loss: 0.2468 - accuracy: 0.9151 - val_loss: 2.6224 - val_accuracy: 0.5240\n",
            "Epoch 23/100\n",
            "196/196 [==============================] - 1s 6ms/step - loss: 0.2110 - accuracy: 0.9262 - val_loss: 2.7560 - val_accuracy: 0.5292\n",
            "Epoch 24/100\n",
            "196/196 [==============================] - 1s 6ms/step - loss: 0.2162 - accuracy: 0.9243 - val_loss: 2.9063 - val_accuracy: 0.5181\n",
            "Epoch 25/100\n",
            "196/196 [==============================] - 1s 6ms/step - loss: 0.1972 - accuracy: 0.9320 - val_loss: 3.0511 - val_accuracy: 0.5147\n",
            "Epoch 26/100\n",
            "196/196 [==============================] - 1s 6ms/step - loss: 0.2099 - accuracy: 0.9280 - val_loss: 2.8948 - val_accuracy: 0.5299\n",
            "Epoch 27/100\n",
            "196/196 [==============================] - 1s 6ms/step - loss: 0.1758 - accuracy: 0.9401 - val_loss: 3.1430 - val_accuracy: 0.5186\n",
            "Epoch 28/100\n",
            "196/196 [==============================] - 1s 6ms/step - loss: 0.1708 - accuracy: 0.9426 - val_loss: 3.2145 - val_accuracy: 0.5298\n",
            "Epoch 29/100\n",
            "196/196 [==============================] - 1s 6ms/step - loss: 0.1698 - accuracy: 0.9407 - val_loss: 3.2259 - val_accuracy: 0.5265\n",
            "Epoch 30/100\n",
            "196/196 [==============================] - 1s 6ms/step - loss: 0.1776 - accuracy: 0.9398 - val_loss: 3.2952 - val_accuracy: 0.5279\n",
            "Epoch 31/100\n",
            "196/196 [==============================] - 1s 6ms/step - loss: 0.1522 - accuracy: 0.9478 - val_loss: 3.4081 - val_accuracy: 0.5242\n",
            "Epoch 32/100\n",
            "196/196 [==============================] - 1s 6ms/step - loss: 0.1543 - accuracy: 0.9468 - val_loss: 3.5014 - val_accuracy: 0.5272\n",
            "Epoch 33/100\n",
            "196/196 [==============================] - 1s 6ms/step - loss: 0.1735 - accuracy: 0.9416 - val_loss: 3.4112 - val_accuracy: 0.5261\n",
            "Epoch 34/100\n",
            "196/196 [==============================] - 1s 6ms/step - loss: 0.1368 - accuracy: 0.9537 - val_loss: 3.6062 - val_accuracy: 0.5271\n",
            "Epoch 35/100\n",
            "196/196 [==============================] - 1s 6ms/step - loss: 0.1419 - accuracy: 0.9518 - val_loss: 3.6085 - val_accuracy: 0.5355\n",
            "Epoch 36/100\n",
            "196/196 [==============================] - 1s 6ms/step - loss: 0.1359 - accuracy: 0.9543 - val_loss: 3.6379 - val_accuracy: 0.5253\n",
            "Epoch 37/100\n",
            "196/196 [==============================] - 1s 6ms/step - loss: 0.1264 - accuracy: 0.9575 - val_loss: 3.7854 - val_accuracy: 0.5219\n",
            "Epoch 38/100\n",
            "196/196 [==============================] - 1s 6ms/step - loss: 0.1392 - accuracy: 0.9545 - val_loss: 3.8341 - val_accuracy: 0.5219\n",
            "Epoch 39/100\n",
            "196/196 [==============================] - 1s 6ms/step - loss: 0.1297 - accuracy: 0.9567 - val_loss: 3.8421 - val_accuracy: 0.5307\n",
            "Epoch 40/100\n",
            "196/196 [==============================] - 1s 6ms/step - loss: 0.1229 - accuracy: 0.9593 - val_loss: 3.8850 - val_accuracy: 0.5249\n",
            "Epoch 41/100\n",
            "196/196 [==============================] - 1s 6ms/step - loss: 0.1457 - accuracy: 0.9520 - val_loss: 3.9802 - val_accuracy: 0.5301\n",
            "Epoch 42/100\n",
            "196/196 [==============================] - 1s 6ms/step - loss: 0.1437 - accuracy: 0.9524 - val_loss: 3.9418 - val_accuracy: 0.5213\n",
            "Epoch 43/100\n",
            "196/196 [==============================] - 1s 6ms/step - loss: 0.1378 - accuracy: 0.9537 - val_loss: 3.9779 - val_accuracy: 0.5226\n",
            "Epoch 44/100\n",
            "196/196 [==============================] - 1s 6ms/step - loss: 0.1026 - accuracy: 0.9662 - val_loss: 4.2242 - val_accuracy: 0.5269\n",
            "Epoch 45/100\n",
            "196/196 [==============================] - 1s 6ms/step - loss: 0.0992 - accuracy: 0.9672 - val_loss: 4.2079 - val_accuracy: 0.5276\n",
            "Epoch 46/100\n",
            "196/196 [==============================] - 1s 6ms/step - loss: 0.0828 - accuracy: 0.9726 - val_loss: 4.3801 - val_accuracy: 0.5278\n",
            "Epoch 47/100\n",
            "196/196 [==============================] - 1s 6ms/step - loss: 0.1153 - accuracy: 0.9616 - val_loss: 4.3367 - val_accuracy: 0.5235\n",
            "Epoch 48/100\n",
            "196/196 [==============================] - 1s 6ms/step - loss: 0.1296 - accuracy: 0.9576 - val_loss: 4.2956 - val_accuracy: 0.5170\n",
            "Epoch 49/100\n",
            "196/196 [==============================] - 1s 6ms/step - loss: 0.1384 - accuracy: 0.9550 - val_loss: 4.3067 - val_accuracy: 0.5178\n",
            "Epoch 50/100\n",
            "196/196 [==============================] - 1s 6ms/step - loss: 0.1134 - accuracy: 0.9627 - val_loss: 4.3014 - val_accuracy: 0.5232\n",
            "Epoch 51/100\n",
            "196/196 [==============================] - 1s 6ms/step - loss: 0.1063 - accuracy: 0.9658 - val_loss: 4.4108 - val_accuracy: 0.5208\n",
            "Epoch 52/100\n",
            "196/196 [==============================] - 1s 6ms/step - loss: 0.1122 - accuracy: 0.9631 - val_loss: 4.3494 - val_accuracy: 0.5305\n",
            "Epoch 53/100\n",
            "196/196 [==============================] - 1s 6ms/step - loss: 0.0877 - accuracy: 0.9709 - val_loss: 4.5609 - val_accuracy: 0.5291\n",
            "Epoch 54/100\n",
            "196/196 [==============================] - 1s 6ms/step - loss: 0.0839 - accuracy: 0.9725 - val_loss: 4.5434 - val_accuracy: 0.5281\n",
            "Epoch 55/100\n",
            "196/196 [==============================] - 1s 6ms/step - loss: 0.1072 - accuracy: 0.9659 - val_loss: 4.5754 - val_accuracy: 0.5169\n",
            "Epoch 56/100\n",
            "196/196 [==============================] - 1s 6ms/step - loss: 0.1165 - accuracy: 0.9618 - val_loss: 4.5382 - val_accuracy: 0.5213\n",
            "Epoch 57/100\n",
            "196/196 [==============================] - 1s 6ms/step - loss: 0.0904 - accuracy: 0.9706 - val_loss: 4.5370 - val_accuracy: 0.5288\n",
            "Epoch 58/100\n",
            "196/196 [==============================] - 1s 6ms/step - loss: 0.0942 - accuracy: 0.9691 - val_loss: 4.6589 - val_accuracy: 0.5246\n",
            "Epoch 59/100\n",
            "196/196 [==============================] - 1s 6ms/step - loss: 0.0896 - accuracy: 0.9711 - val_loss: 4.6016 - val_accuracy: 0.5304\n",
            "Epoch 60/100\n",
            "196/196 [==============================] - 1s 6ms/step - loss: 0.1209 - accuracy: 0.9624 - val_loss: 4.6091 - val_accuracy: 0.5197\n",
            "Epoch 61/100\n",
            "196/196 [==============================] - 1s 6ms/step - loss: 0.0734 - accuracy: 0.9747 - val_loss: 4.8593 - val_accuracy: 0.5331\n",
            "Epoch 62/100\n",
            "196/196 [==============================] - 1s 6ms/step - loss: 0.0725 - accuracy: 0.9762 - val_loss: 4.8154 - val_accuracy: 0.5298\n",
            "Epoch 63/100\n",
            "196/196 [==============================] - 1s 6ms/step - loss: 0.0949 - accuracy: 0.9688 - val_loss: 4.8983 - val_accuracy: 0.5261\n",
            "Epoch 64/100\n",
            "196/196 [==============================] - 1s 6ms/step - loss: 0.0959 - accuracy: 0.9695 - val_loss: 4.8670 - val_accuracy: 0.5184\n",
            "Epoch 65/100\n",
            "196/196 [==============================] - 1s 6ms/step - loss: 0.0920 - accuracy: 0.9699 - val_loss: 4.8980 - val_accuracy: 0.5245\n",
            "Epoch 66/100\n",
            "196/196 [==============================] - 1s 6ms/step - loss: 0.1123 - accuracy: 0.9660 - val_loss: 4.7836 - val_accuracy: 0.5315\n",
            "Epoch 67/100\n",
            "196/196 [==============================] - 1s 6ms/step - loss: 0.1155 - accuracy: 0.9643 - val_loss: 4.7755 - val_accuracy: 0.5205\n",
            "Epoch 68/100\n",
            "196/196 [==============================] - 1s 6ms/step - loss: 0.0765 - accuracy: 0.9745 - val_loss: 5.0896 - val_accuracy: 0.5259\n",
            "Epoch 69/100\n",
            "196/196 [==============================] - 1s 6ms/step - loss: 0.0735 - accuracy: 0.9762 - val_loss: 4.9577 - val_accuracy: 0.5282\n",
            "Epoch 70/100\n",
            "196/196 [==============================] - 1s 6ms/step - loss: 0.0683 - accuracy: 0.9773 - val_loss: 5.1327 - val_accuracy: 0.5273\n",
            "Epoch 71/100\n",
            "196/196 [==============================] - 1s 6ms/step - loss: 0.0981 - accuracy: 0.9690 - val_loss: 4.9962 - val_accuracy: 0.5215\n",
            "Epoch 72/100\n",
            "196/196 [==============================] - 1s 6ms/step - loss: 0.0855 - accuracy: 0.9727 - val_loss: 5.1123 - val_accuracy: 0.5234\n",
            "Epoch 73/100\n",
            "196/196 [==============================] - 1s 6ms/step - loss: 0.0913 - accuracy: 0.9709 - val_loss: 5.0507 - val_accuracy: 0.5259\n",
            "Epoch 74/100\n",
            "196/196 [==============================] - 1s 6ms/step - loss: 0.0973 - accuracy: 0.9701 - val_loss: 4.9438 - val_accuracy: 0.5250\n",
            "Epoch 75/100\n",
            "196/196 [==============================] - 1s 6ms/step - loss: 0.0748 - accuracy: 0.9758 - val_loss: 5.1027 - val_accuracy: 0.5222\n",
            "Epoch 76/100\n",
            "196/196 [==============================] - 1s 6ms/step - loss: 0.0893 - accuracy: 0.9722 - val_loss: 5.0948 - val_accuracy: 0.5273\n",
            "Epoch 77/100\n",
            "196/196 [==============================] - 1s 6ms/step - loss: 0.0723 - accuracy: 0.9771 - val_loss: 5.0985 - val_accuracy: 0.5255\n",
            "Epoch 78/100\n",
            "196/196 [==============================] - 1s 6ms/step - loss: 0.0813 - accuracy: 0.9755 - val_loss: 5.1751 - val_accuracy: 0.5261\n",
            "Epoch 79/100\n",
            "196/196 [==============================] - 1s 6ms/step - loss: 0.0622 - accuracy: 0.9801 - val_loss: 5.2631 - val_accuracy: 0.5315\n",
            "Epoch 80/100\n",
            "196/196 [==============================] - 1s 6ms/step - loss: 0.0609 - accuracy: 0.9802 - val_loss: 5.4171 - val_accuracy: 0.5357\n",
            "Epoch 81/100\n",
            "196/196 [==============================] - 1s 6ms/step - loss: 0.0853 - accuracy: 0.9735 - val_loss: 5.5713 - val_accuracy: 0.5170\n",
            "Epoch 82/100\n",
            "196/196 [==============================] - 1s 6ms/step - loss: 0.1276 - accuracy: 0.9618 - val_loss: 5.3528 - val_accuracy: 0.5275\n",
            "Epoch 83/100\n",
            "196/196 [==============================] - 1s 6ms/step - loss: 0.0754 - accuracy: 0.9764 - val_loss: 5.2712 - val_accuracy: 0.5306\n",
            "Epoch 84/100\n",
            "196/196 [==============================] - 1s 6ms/step - loss: 0.0611 - accuracy: 0.9801 - val_loss: 5.2421 - val_accuracy: 0.5322\n",
            "Epoch 85/100\n",
            "196/196 [==============================] - 1s 6ms/step - loss: 0.0603 - accuracy: 0.9813 - val_loss: 5.1971 - val_accuracy: 0.5288\n",
            "Epoch 86/100\n",
            "196/196 [==============================] - 1s 6ms/step - loss: 0.0818 - accuracy: 0.9753 - val_loss: 5.4807 - val_accuracy: 0.5317\n",
            "Epoch 87/100\n",
            "196/196 [==============================] - 1s 6ms/step - loss: 0.0934 - accuracy: 0.9715 - val_loss: 5.2687 - val_accuracy: 0.5248\n",
            "Epoch 88/100\n",
            "196/196 [==============================] - 1s 6ms/step - loss: 0.0793 - accuracy: 0.9755 - val_loss: 5.3654 - val_accuracy: 0.5297\n",
            "Epoch 89/100\n",
            "196/196 [==============================] - 1s 6ms/step - loss: 0.0753 - accuracy: 0.9771 - val_loss: 5.3967 - val_accuracy: 0.5303\n",
            "Epoch 90/100\n",
            "196/196 [==============================] - 1s 6ms/step - loss: 0.0732 - accuracy: 0.9778 - val_loss: 5.3317 - val_accuracy: 0.5243\n",
            "Epoch 91/100\n",
            "196/196 [==============================] - 1s 6ms/step - loss: 0.0803 - accuracy: 0.9758 - val_loss: 5.3444 - val_accuracy: 0.5321\n",
            "Epoch 92/100\n",
            "196/196 [==============================] - 1s 6ms/step - loss: 0.0578 - accuracy: 0.9814 - val_loss: 5.3849 - val_accuracy: 0.5275\n",
            "Epoch 93/100\n",
            "196/196 [==============================] - 1s 6ms/step - loss: 0.0680 - accuracy: 0.9789 - val_loss: 5.5113 - val_accuracy: 0.5265\n",
            "Epoch 94/100\n",
            "196/196 [==============================] - 1s 6ms/step - loss: 0.0636 - accuracy: 0.9801 - val_loss: 5.5504 - val_accuracy: 0.5271\n",
            "Epoch 95/100\n",
            "196/196 [==============================] - 1s 6ms/step - loss: 0.0885 - accuracy: 0.9730 - val_loss: 5.5352 - val_accuracy: 0.5301\n",
            "Epoch 96/100\n",
            "196/196 [==============================] - 1s 6ms/step - loss: 0.0795 - accuracy: 0.9750 - val_loss: 5.3857 - val_accuracy: 0.5274\n",
            "Epoch 97/100\n",
            "196/196 [==============================] - 1s 6ms/step - loss: 0.0838 - accuracy: 0.9753 - val_loss: 5.5380 - val_accuracy: 0.5275\n",
            "Epoch 98/100\n",
            "196/196 [==============================] - 1s 6ms/step - loss: 0.0476 - accuracy: 0.9848 - val_loss: 5.5524 - val_accuracy: 0.5293\n",
            "Epoch 99/100\n",
            "196/196 [==============================] - 1s 6ms/step - loss: 0.0490 - accuracy: 0.9841 - val_loss: 5.5554 - val_accuracy: 0.5303\n",
            "Epoch 100/100\n",
            "196/196 [==============================] - 1s 6ms/step - loss: 0.0734 - accuracy: 0.9769 - val_loss: 5.4769 - val_accuracy: 0.5245\n"
          ]
        },
        {
          "output_type": "execute_result",
          "data": {
            "text/plain": [
              "<keras.callbacks.History at 0x7fb8de9ab890>"
            ]
          },
          "metadata": {},
          "execution_count": 14
        }
      ]
    },
    {
      "cell_type": "code",
      "metadata": {
        "id": "jThDeFlL4oXG",
        "outputId": "68441acd-469e-42ad-99bb-c7323d2df5ad",
        "colab": {
          "base_uri": "https://localhost:8080/",
          "height": 545
        }
      },
      "source": [
        "import matplotlib.pyplot as plt\n",
        "\n",
        "\n",
        "train_loss = model.history.history[\"loss\"]\n",
        "valid_loss = model.history.history[\"val_loss\"]\n",
        "\n",
        "train_acc = model.history.history[\"accuracy\"]\n",
        "valid_acc = model.history.history[\"val_accuracy\"]\n",
        "\n",
        "plt.plot(range(len(train_loss)), train_loss, label=\"train loss\")\n",
        "plt.plot(range(len(valid_loss)), valid_loss, label=\"valid loss\")\n",
        "plt.legend()\n",
        "plt.title(\"Loss\")\n",
        "plt.show()\n",
        "\n",
        "plt.plot(range(len(train_acc)), train_acc, label=\"train accuracy\")\n",
        "plt.plot(range(len(valid_acc)), valid_acc, label=\"valid accuracy\")\n",
        "plt.legend()\n",
        "plt.title(\"Accuracy\")\n",
        "plt.show()"
      ],
      "execution_count": 16,
      "outputs": [
        {
          "output_type": "display_data",
          "data": {
            "image/png": "[encoded data removed]",
            "text/plain": [
              "<Figure size 432x288 with 1 Axes>"
            ]
          },
          "metadata": {
            "needs_background": "light"
          }
        },
        {
          "output_type": "display_data",
          "data": {
            "image/png": "[encoded data removed]",
            "text/plain": [
              "<Figure size 432x288 with 1 Axes>"
            ]
          },
          "metadata": {
            "needs_background": "light"
          }
        }
      ]
    }
  ]
}