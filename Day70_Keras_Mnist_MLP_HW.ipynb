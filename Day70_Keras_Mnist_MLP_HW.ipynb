{
  "cells": [
    {
      "cell_type": "markdown",
      "metadata": {
        "id": "view-in-github",
        "colab_type": "text"
      },
      "source": [
        "<a href=\"https://colab.research.google.com/github/kassy75035/1st-PyCrawlerMarathon/blob/master/Day70_Keras_Mnist_MLP_HW.ipynb\" target=\"_parent\"><img src=\"https://colab.research.google.com/assets/colab-badge.svg\" alt=\"Open In Colab\"/></a>"
      ]
    },
    {
      "cell_type": "markdown",
      "metadata": {
        "id": "NDmzdzGM31bh"
      },
      "source": [
        "# 作業目標:¶\n",
        "利用手寫辨識資料說明MLP 中, 神經網路層的多寡跟預測結果的差異"
      ]
    },
    {
      "cell_type": "markdown",
      "metadata": {
        "id": "djgegpWh31bv"
      },
      "source": [
        "# 作業重點:\n",
        "[練習]請嘗試新增一層或兩層看看最後預測結果是否有差異\n",
        "model.add(Dense(units=256, input_dim=784, kernel_initializer='normal', activation='relu'))\n"
      ]
    },
    {
      "cell_type": "markdown",
      "metadata": {
        "id": "zfI5zCjRPlnc"
      },
      "source": [
        "# 資料預處理"
      ]
    },
    {
      "cell_type": "code",
      "execution_count": 1,
      "metadata": {
        "id": "GyIQ7tpGPlnf"
      },
      "outputs": [],
      "source": [
        "from keras.utils import np_utils\n",
        "import numpy as np\n",
        "np.random.seed(10)"
      ]
    },
    {
      "cell_type": "code",
      "execution_count": 2,
      "metadata": {
        "colab": {
          "base_uri": "https://localhost:8080/"
        },
        "id": "OLzoKlJRPlno",
        "outputId": "0855abf1-3a5b-4e0e-b05a-0863093b7053"
      },
      "outputs": [
        {
          "output_type": "stream",
          "name": "stdout",
          "text": [
            "Downloading data from https://storage.googleapis.com/tensorflow/tf-keras-datasets/mnist.npz\n",
            "11493376/11490434 [==============================] - 0s 0us/step\n",
            "11501568/11490434 [==============================] - 0s 0us/step\n"
          ]
        }
      ],
      "source": [
        "#載入手寫辨識的資料集\n",
        "from keras.datasets import mnist\n",
        "(x_train_image,y_train_label),\\\n",
        "(x_test_image,y_test_label)= mnist.load_data()"
      ]
    },
    {
      "cell_type": "code",
      "execution_count": 3,
      "metadata": {
        "id": "QEuQwa4nPlnu"
      },
      "outputs": [],
      "source": [
        "#指定測試集與訓練資料集\n",
        "x_Train =x_train_image.reshape(60000, 784).astype('float32')\n",
        "x_Test = x_test_image.reshape(10000, 784).astype('float32')"
      ]
    },
    {
      "cell_type": "code",
      "execution_count": 4,
      "metadata": {
        "id": "YisRq-SxPln0"
      },
      "outputs": [],
      "source": [
        "# normalize inputs from 0-255 to 0-1\n",
        "x_Train_normalize = x_Train / 255\n",
        "x_Test_normalize = x_Test / 255"
      ]
    },
    {
      "cell_type": "code",
      "execution_count": 5,
      "metadata": {
        "id": "AHtfmzpfPln4"
      },
      "outputs": [],
      "source": [
        "#把LABEL轉成NUMERICAL Categorical \n",
        "y_Train_OneHot = np_utils.to_categorical(y_train_label)\n",
        "y_Test_OneHot = np_utils.to_categorical(y_test_label)"
      ]
    },
    {
      "cell_type": "markdown",
      "metadata": {
        "id": "0s8PjvqJPln7"
      },
      "source": [
        "# 建立模型"
      ]
    },
    {
      "cell_type": "code",
      "execution_count": 6,
      "metadata": {
        "id": "N10v1eX2Pln8"
      },
      "outputs": [],
      "source": [
        "from keras.models import Sequential\n",
        "from keras.layers import Dense"
      ]
    },
    {
      "cell_type": "code",
      "execution_count": 7,
      "metadata": {
        "id": "jmaxrsXwPln-"
      },
      "outputs": [],
      "source": [
        "#建立模型\n",
        "# 使用序列模型\n",
        "model = Sequential()"
      ]
    },
    {
      "cell_type": "code",
      "execution_count": 10,
      "metadata": {
        "id": "JcVPwaFC31cG"
      },
      "outputs": [],
      "source": [
        "# Input layer\n",
        "model.add(Dense(units=256,\n",
        "        input_dim=784,\n",
        "        kernel_initializer='normal',\n",
        "        activation='relu'))"
      ]
    },
    {
      "cell_type": "code",
      "source": [
        "# Hidden layer\n",
        "model.add(Dense(units=256,\n",
        "        kernel_initializer='normal',\n",
        "        activation='relu'))"
      ],
      "metadata": {
        "id": "-uQTc4WN5q08"
      },
      "execution_count": 11,
      "outputs": []
    },
    {
      "cell_type": "code",
      "source": [
        "# Output layer\n",
        "model.add(Dense(units=10, \n",
        "        kernel_initializer='normal', \n",
        "        activation='softmax'))"
      ],
      "metadata": {
        "id": "RLdFkn7r5wOQ"
      },
      "execution_count": 12,
      "outputs": []
    },
    {
      "cell_type": "markdown",
      "metadata": {
        "id": "jdoAZgv1PloK"
      },
      "source": [
        "# 訓練模型"
      ]
    },
    {
      "cell_type": "code",
      "execution_count": 13,
      "metadata": {
        "id": "5d5wrEL3PloK"
      },
      "outputs": [],
      "source": [
        "model.compile(loss='categorical_crossentropy', \n",
        "              optimizer='adam', metrics=['accuracy'])"
      ]
    },
    {
      "cell_type": "code",
      "execution_count": 23,
      "metadata": {
        "colab": {
          "base_uri": "https://localhost:8080/"
        },
        "id": "VlpjoqQ9PloM",
        "outputId": "df2341de-5a9c-4b5e-dd0a-c511fb231899"
      },
      "outputs": [
        {
          "output_type": "stream",
          "name": "stdout",
          "text": [
            "Epoch 1/10\n",
            "1500/1500 [==============================] - 6s 4ms/step - loss: 0.0155 - accuracy: 0.9948 - val_loss: 0.1203 - val_accuracy: 0.9784\n",
            "Epoch 2/10\n",
            "1500/1500 [==============================] - 6s 4ms/step - loss: 0.0159 - accuracy: 0.9950 - val_loss: 0.1257 - val_accuracy: 0.9766\n",
            "Epoch 3/10\n",
            "1500/1500 [==============================] - 6s 4ms/step - loss: 0.0151 - accuracy: 0.9951 - val_loss: 0.1212 - val_accuracy: 0.9788\n",
            "Epoch 4/10\n",
            "1500/1500 [==============================] - 6s 4ms/step - loss: 0.0089 - accuracy: 0.9969 - val_loss: 0.1372 - val_accuracy: 0.9781\n",
            "Epoch 5/10\n",
            "1500/1500 [==============================] - 6s 4ms/step - loss: 0.0149 - accuracy: 0.9950 - val_loss: 0.1419 - val_accuracy: 0.9768\n",
            "Epoch 6/10\n",
            "1500/1500 [==============================] - 6s 4ms/step - loss: 0.0108 - accuracy: 0.9968 - val_loss: 0.1256 - val_accuracy: 0.9796\n",
            "Epoch 7/10\n",
            "1500/1500 [==============================] - 6s 4ms/step - loss: 0.0139 - accuracy: 0.9957 - val_loss: 0.1437 - val_accuracy: 0.9757\n",
            "Epoch 8/10\n",
            "1500/1500 [==============================] - 6s 4ms/step - loss: 0.0110 - accuracy: 0.9965 - val_loss: 0.1459 - val_accuracy: 0.9781\n",
            "Epoch 9/10\n",
            "1500/1500 [==============================] - 6s 4ms/step - loss: 0.0093 - accuracy: 0.9972 - val_loss: 0.1695 - val_accuracy: 0.9778\n",
            "Epoch 10/10\n",
            "1500/1500 [==============================] - 6s 4ms/step - loss: 0.0109 - accuracy: 0.9968 - val_loss: 0.1493 - val_accuracy: 0.9785\n"
          ]
        }
      ],
      "source": [
        "train_history =model.fit(x=x_Train_normalize,\n",
        "                         y=y_Train_OneHot,validation_split=0.2, \n",
        "                         epochs=10, batch_size=32,verbose=1)"
      ]
    },
    {
      "cell_type": "markdown",
      "metadata": {
        "id": "pV1Ftdb0PloP"
      },
      "source": [
        "# 以圖形顯示訓練過程"
      ]
    },
    {
      "cell_type": "code",
      "execution_count": 21,
      "metadata": {
        "id": "EEmuoa1dPloQ"
      },
      "outputs": [],
      "source": [
        "import matplotlib.pyplot as plt\n",
        "def show_train_history(train_history,train,validation):\n",
        "    plt.plot(train_history.history[train])\n",
        "    plt.plot(train_history.history[validation])\n",
        "    plt.title('Train History')\n",
        "    plt.ylabel(train)\n",
        "    plt.xlabel('Epoch')\n",
        "    plt.legend(['train', 'validation'], loc='upper left')\n",
        "    plt.show()"
      ]
    },
    {
      "cell_type": "code",
      "source": [
        "train_history.history"
      ],
      "metadata": {
        "colab": {
          "base_uri": "https://localhost:8080/"
        },
        "id": "N81mGFgd7Xrj",
        "outputId": "5cc21254-b739-4d2e-d924-f83547623dec"
      },
      "execution_count": 37,
      "outputs": [
        {
          "output_type": "execute_result",
          "data": {
            "text/plain": [
              "{'accuracy': [0.9947500228881836,\n",
              "  0.9950208067893982,\n",
              "  0.9950833320617676,\n",
              "  0.9968958497047424,\n",
              "  0.9950416684150696,\n",
              "  0.9967708587646484,\n",
              "  0.9957083463668823,\n",
              "  0.9965416789054871,\n",
              "  0.9971874952316284,\n",
              "  0.9967708587646484],\n",
              " 'loss': [0.015530006028711796,\n",
              "  0.01594846136868,\n",
              "  0.015115761198103428,\n",
              "  0.008894846774637699,\n",
              "  0.014925099909305573,\n",
              "  0.010811910033226013,\n",
              "  0.01387799996882677,\n",
              "  0.011010277085006237,\n",
              "  0.0092582106590271,\n",
              "  0.010860690847039223],\n",
              " 'val_accuracy': [0.9784166812896729,\n",
              "  0.9765833616256714,\n",
              "  0.9788333177566528,\n",
              "  0.9780833125114441,\n",
              "  0.9767500162124634,\n",
              "  0.9795833230018616,\n",
              "  0.9756666421890259,\n",
              "  0.9780833125114441,\n",
              "  0.9777500033378601,\n",
              "  0.9785000085830688],\n",
              " 'val_loss': [0.12033636122941971,\n",
              "  0.1257454752922058,\n",
              "  0.12120705097913742,\n",
              "  0.13723993301391602,\n",
              "  0.14186035096645355,\n",
              "  0.12562091648578644,\n",
              "  0.14374710619449615,\n",
              "  0.1458989381790161,\n",
              "  0.1695280820131302,\n",
              "  0.14930284023284912]}"
            ]
          },
          "metadata": {},
          "execution_count": 37
        }
      ]
    },
    {
      "cell_type": "code",
      "execution_count": 38,
      "metadata": {
        "colab": {
          "base_uri": "https://localhost:8080/",
          "height": 295
        },
        "id": "fvE2WsejPloT",
        "outputId": "8c761d40-f438-4a84-bb7d-b37f760c368b"
      },
      "outputs": [
        {
          "output_type": "display_data",
          "data": {
            "image/png": "[encoded data removed]",
            "text/plain": [
              "<Figure size 432x288 with 1 Axes>"
            ]
          },
          "metadata": {
            "needs_background": "light"
          }
        }
      ],
      "source": [
        "show_train_history(train_history,'accuracy','val_accuracy')"
      ]
    },
    {
      "cell_type": "code",
      "execution_count": 19,
      "metadata": {
        "colab": {
          "base_uri": "https://localhost:8080/",
          "height": 295
        },
        "id": "zIYyrnFWPloW",
        "outputId": "4df840e9-5a4b-42d0-eef2-6b220ac1630c"
      },
      "outputs": [
        {
          "output_type": "display_data",
          "data": {
            "image/png": "[encoded data removed]",
            "text/plain": [
              "<Figure size 432x288 with 1 Axes>"
            ]
          },
          "metadata": {
            "needs_background": "light"
          }
        }
      ],
      "source": [
        "show_train_history(train_history,'loss','val_loss')"
      ]
    },
    {
      "cell_type": "markdown",
      "metadata": {
        "id": "h1z2y0g-PloZ"
      },
      "source": [
        "# 評估模型準確率"
      ]
    },
    {
      "cell_type": "code",
      "execution_count": 20,
      "metadata": {
        "colab": {
          "base_uri": "https://localhost:8080/"
        },
        "id": "vMawurJqPloZ",
        "outputId": "ae5cc9a0-ec1a-4cf2-a631-810bb3848016"
      },
      "outputs": [
        {
          "output_type": "stream",
          "name": "stdout",
          "text": [
            "313/313 [==============================] - 1s 4ms/step - loss: 0.0947 - accuracy: 0.9783\n",
            "\n",
            "accuracy= 0.9782999753952026\n"
          ]
        }
      ],
      "source": [
        "scores = model.evaluate(x_Test_normalize, y_Test_OneHot)\n",
        "print()\n",
        "print('accuracy=',scores[1])"
      ]
    }
  ],
  "metadata": {
    "accelerator": "GPU",
    "colab": {
      "collapsed_sections": [],
      "name": "Day70-Keras_Mnist_MLP_HW.ipynb",
      "provenance": [],
      "include_colab_link": true
    },
    "kernelspec": {
      "display_name": "Python 3",
      "language": "python",
      "name": "python3"
    },
    "language_info": {
      "codemirror_mode": {
        "name": "ipython",
        "version": 3
      },
      "file_extension": ".py",
      "mimetype": "text/x-python",
      "name": "python",
      "nbconvert_exporter": "python",
      "pygments_lexer": "ipython3",
      "version": "3.7.0"
    }
  },
  "nbformat": 4,
  "nbformat_minor": 0
}