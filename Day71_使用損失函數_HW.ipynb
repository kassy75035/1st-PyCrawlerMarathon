{
  "cells": [
    {
      "cell_type": "markdown",
      "metadata": {
        "id": "view-in-github",
        "colab_type": "text"
      },
      "source": [
        "<a href=\"https://colab.research.google.com/github/kassy75035/1st-PyCrawlerMarathon/blob/master/Day71_%E4%BD%BF%E7%94%A8%E6%90%8D%E5%A4%B1%E5%87%BD%E6%95%B8_HW.ipynb\" target=\"_parent\"><img src=\"https://colab.research.google.com/assets/colab-badge.svg\" alt=\"Open In Colab\"/></a>"
      ]
    },
    {
      "cell_type": "markdown",
      "metadata": {
        "id": "cj4tE8e8iUtO"
      },
      "source": [
        "#   \n",
        "\n",
        "# 作業目標:\n",
        "\n",
        "    1. 藉由固定的 dataset, 來驗證不同loss function\n",
        "    2. Dataset 的特性跟我們選用的loss function 對accrancy 的影響\n",
        "    \n",
        "    \n",
        "# 作業重點: \n",
        "    請分別選用 \"MSE\", \"binary _crossentropy\"\n",
        "    查看Train/test accurancy and loss rate\n",
        "    "
      ]
    },
    {
      "cell_type": "markdown",
      "metadata": {
        "id": "R51J4KyyiUsL"
      },
      "source": [
        "# 導入必要的函數"
      ]
    },
    {
      "cell_type": "code",
      "execution_count": 1,
      "metadata": {
        "id": "Qd68OQjciUsM"
      },
      "outputs": [],
      "source": [
        "from keras.datasets import cifar10\n",
        "import numpy as np\n",
        "np.random.seed(10)"
      ]
    },
    {
      "cell_type": "markdown",
      "metadata": {
        "id": "GxKuzQLQiUsP"
      },
      "source": [
        "# 資料準備"
      ]
    },
    {
      "cell_type": "code",
      "execution_count": 2,
      "metadata": {
        "colab": {
          "base_uri": "https://localhost:8080/"
        },
        "id": "MIbFZdTCiUsQ",
        "outputId": "4cb202de-37d6-4b97-df8e-2a4d79d38a97"
      },
      "outputs": [
        {
          "output_type": "stream",
          "name": "stdout",
          "text": [
            "Downloading data from https://www.cs.toronto.edu/~kriz/cifar-10-python.tar.gz\n",
            "170500096/170498071 [==============================] - 3s 0us/step\n",
            "170508288/170498071 [==============================] - 3s 0us/step\n"
          ]
        }
      ],
      "source": [
        "#取得Keras Dataset\n",
        "(x_img_train,y_label_train),(x_img_test,y_label_test)=cifar10.load_data()"
      ]
    },
    {
      "cell_type": "code",
      "execution_count": 3,
      "metadata": {
        "colab": {
          "base_uri": "https://localhost:8080/"
        },
        "id": "J8CJVjNOiUsS",
        "outputId": "d86827dc-9e83-4e7f-9019-b435d478110e"
      },
      "outputs": [
        {
          "output_type": "stream",
          "name": "stdout",
          "text": [
            "train data: images: (50000, 32, 32, 3)  labels: (50000, 1)\n",
            "test  data: images: (10000, 32, 32, 3)  labels: (10000, 1)\n"
          ]
        }
      ],
      "source": [
        "#確認 CIFAR10 Dataset 資料維度\n",
        "print(\"train data:\",'images:',x_img_train.shape,\n",
        "      \" labels:\",y_label_train.shape) \n",
        "print(\"test  data:\",'images:',x_img_test.shape ,\n",
        "      \" labels:\",y_label_test.shape) "
      ]
    },
    {
      "cell_type": "code",
      "execution_count": 4,
      "metadata": {
        "id": "V3P6P4DXiUsV"
      },
      "outputs": [],
      "source": [
        "#資料正規化\n",
        "x_img_train_normalize = x_img_train.astype('float32') / 255.0\n",
        "x_img_test_normalize = x_img_test.astype('float32') / 255.0"
      ]
    },
    {
      "cell_type": "code",
      "execution_count": 5,
      "metadata": {
        "colab": {
          "base_uri": "https://localhost:8080/"
        },
        "id": "vsDyjKYliUsX",
        "outputId": "8b4eb2b9-2762-448d-afc6-5fd06d3988d3"
      },
      "outputs": [
        {
          "output_type": "execute_result",
          "data": {
            "text/plain": [
              "(10000, 10)"
            ]
          },
          "metadata": {},
          "execution_count": 5
        }
      ],
      "source": [
        "#針對Label 做 ONE HOT ENCODE\n",
        "from keras.utils import np_utils\n",
        "y_label_train_OneHot = np_utils.to_categorical(y_label_train)\n",
        "y_label_test_OneHot = np_utils.to_categorical(y_label_test)\n",
        "y_label_test_OneHot.shape"
      ]
    },
    {
      "cell_type": "markdown",
      "metadata": {
        "id": "RutW2OtgiUsZ"
      },
      "source": [
        "# 建立模型"
      ]
    },
    {
      "cell_type": "code",
      "execution_count": 6,
      "metadata": {
        "id": "aHz592aXiUsa"
      },
      "outputs": [],
      "source": [
        "from keras.models import Sequential\n",
        "from keras.layers import Dense, Dropout, Activation, Flatten\n",
        "from keras.layers import Conv2D, MaxPooling2D, ZeroPadding2D"
      ]
    },
    {
      "cell_type": "code",
      "execution_count": 9,
      "metadata": {
        "id": "hslqrIp0iUse"
      },
      "outputs": [],
      "source": [
        "model = Sequential()"
      ]
    },
    {
      "cell_type": "code",
      "execution_count": 7,
      "metadata": {
        "id": "Hqe35hs2iUsi"
      },
      "outputs": [],
      "source": [
        "#卷積層1"
      ]
    },
    {
      "cell_type": "code",
      "execution_count": 10,
      "metadata": {
        "id": "ED7dqe1YiUsm"
      },
      "outputs": [],
      "source": [
        "model.add(Conv2D(filters=32,kernel_size=(3,3),\n",
        "                 input_shape=(32, 32,3), \n",
        "                 activation='relu', \n",
        "                 padding='same'))"
      ]
    },
    {
      "cell_type": "code",
      "execution_count": 11,
      "metadata": {
        "id": "n-GRKmPViUso"
      },
      "outputs": [],
      "source": [
        "model.add(Dropout(rate=0.25))"
      ]
    },
    {
      "cell_type": "code",
      "execution_count": 12,
      "metadata": {
        "id": "GlWnnD1uiUsw"
      },
      "outputs": [],
      "source": [
        "model.add(MaxPooling2D(pool_size=(2, 2)))"
      ]
    },
    {
      "cell_type": "code",
      "execution_count": null,
      "metadata": {
        "id": "nawlkt55iUsy"
      },
      "outputs": [],
      "source": [
        "#卷積層2與池化層2"
      ]
    },
    {
      "cell_type": "code",
      "execution_count": 13,
      "metadata": {
        "id": "xxyETiKNiUs1"
      },
      "outputs": [],
      "source": [
        "model.add(Conv2D(filters=64, kernel_size=(3, 3), \n",
        "                 activation='relu', padding='same'))"
      ]
    },
    {
      "cell_type": "code",
      "execution_count": 14,
      "metadata": {
        "id": "RqcKWtqGiUs2"
      },
      "outputs": [],
      "source": [
        "model.add(Dropout(0.25))"
      ]
    },
    {
      "cell_type": "code",
      "execution_count": 15,
      "metadata": {
        "id": "BUOOzlqfiUs4"
      },
      "outputs": [],
      "source": [
        "model.add(MaxPooling2D(pool_size=(2, 2)))"
      ]
    },
    {
      "cell_type": "code",
      "execution_count": null,
      "metadata": {
        "id": "LpkppB2siUs7"
      },
      "outputs": [],
      "source": [
        "#建立神經網路(平坦層、隱藏層、輸出層)"
      ]
    },
    {
      "cell_type": "code",
      "execution_count": 16,
      "metadata": {
        "id": "UQOfU54_iUs_"
      },
      "outputs": [],
      "source": [
        "model.add(Flatten())\n",
        "model.add(Dropout(rate=0.25))"
      ]
    },
    {
      "cell_type": "code",
      "execution_count": 17,
      "metadata": {
        "id": "_NV-8sq4iUtD"
      },
      "outputs": [],
      "source": [
        "model.add(Dense(1024, activation='relu'))\n",
        "model.add(Dropout(rate=0.25))"
      ]
    },
    {
      "cell_type": "code",
      "execution_count": 18,
      "metadata": {
        "id": "qVK77krOiUtF"
      },
      "outputs": [],
      "source": [
        "model.add(Dense(10, activation='softmax'))"
      ]
    },
    {
      "cell_type": "code",
      "execution_count": 19,
      "metadata": {
        "colab": {
          "base_uri": "https://localhost:8080/"
        },
        "id": "ZxzRIjR0iUtH",
        "outputId": "e02b0887-004b-4699-c1c9-72313003513c"
      },
      "outputs": [
        {
          "output_type": "stream",
          "name": "stdout",
          "text": [
            "Model: \"sequential\"\n",
            "_________________________________________________________________\n",
            " Layer (type)                Output Shape              Param #   \n",
            "=================================================================\n",
            " conv2d (Conv2D)             (None, 32, 32, 32)        896       \n",
            "                                                                 \n",
            " dropout (Dropout)           (None, 32, 32, 32)        0         \n",
            "                                                                 \n",
            " max_pooling2d (MaxPooling2D  (None, 16, 16, 32)       0         \n",
            " )                                                               \n",
            "                                                                 \n",
            " conv2d_1 (Conv2D)           (None, 16, 16, 64)        18496     \n",
            "                                                                 \n",
            " dropout_1 (Dropout)         (None, 16, 16, 64)        0         \n",
            "                                                                 \n",
            " max_pooling2d_1 (MaxPooling  (None, 8, 8, 64)         0         \n",
            " 2D)                                                             \n",
            "                                                                 \n",
            " flatten (Flatten)           (None, 4096)              0         \n",
            "                                                                 \n",
            " dropout_2 (Dropout)         (None, 4096)              0         \n",
            "                                                                 \n",
            " dense (Dense)               (None, 1024)              4195328   \n",
            "                                                                 \n",
            " dropout_3 (Dropout)         (None, 1024)              0         \n",
            "                                                                 \n",
            " dense_1 (Dense)             (None, 10)                10250     \n",
            "                                                                 \n",
            "=================================================================\n",
            "Total params: 4,224,970\n",
            "Trainable params: 4,224,970\n",
            "Non-trainable params: 0\n",
            "_________________________________________________________________\n",
            "None\n"
          ]
        }
      ],
      "source": [
        "#檢查model 的STACK\n",
        "print(model.summary())"
      ]
    },
    {
      "cell_type": "markdown",
      "metadata": {
        "id": "QJCtpJM0iUtJ"
      },
      "source": [
        "# 載入之前訓練的模型"
      ]
    },
    {
      "cell_type": "code",
      "execution_count": null,
      "metadata": {
        "id": "JU3A6NzQiUtK",
        "outputId": "364e98c9-1bc1-4de0-e018-9a74fb1c40a4"
      },
      "outputs": [
        {
          "name": "stdout",
          "output_type": "stream",
          "text": [
            "載入模型失敗!開始訓練一個新模型\n"
          ]
        }
      ],
      "source": [
        "try:\n",
        "    model.load_weights(\"SaveModel/cifarCnnModel.h5\")\n",
        "    print(\"載入模型成功!繼續訓練模型\")\n",
        "except :    \n",
        "    print(\"載入模型失敗!開始訓練一個新模型\")"
      ]
    },
    {
      "cell_type": "markdown",
      "metadata": {
        "id": "qBbCuziziUtM"
      },
      "source": [
        "# 訓練模型"
      ]
    },
    {
      "cell_type": "code",
      "execution_count": 21,
      "metadata": {
        "colab": {
          "base_uri": "https://localhost:8080/",
          "height": 35
        },
        "id": "Q6BiBcseiUtP",
        "outputId": "ebb90962-57ae-4e1f-b2ce-c4da2607e913"
      },
      "outputs": [
        {
          "output_type": "execute_result",
          "data": {
            "application/vnd.google.colaboratory.intrinsic+json": {
              "type": "string"
            },
            "text/plain": [
              "'\\n作業:\\n請分別選用 \"MSE\", \"binary _crossentropy\"\\n查看Train/test accurancy and loss rate\\n'"
            ]
          },
          "metadata": {},
          "execution_count": 21
        }
      ],
      "source": [
        "b\n",
        "'''\n",
        "作業:\n",
        "請分別選用 \"MSE\", \"binary _crossentropy\"\n",
        "查看Train/test accurancy and loss rate\n",
        "'''"
      ]
    },
    {
      "cell_type": "code",
      "execution_count": 22,
      "metadata": {
        "colab": {
          "base_uri": "https://localhost:8080/"
        },
        "id": "4-GdDgmQiUtS",
        "outputId": "cf69bf91-90ee-4e29-a3c4-11b3949627a5"
      },
      "outputs": [
        {
          "output_type": "stream",
          "name": "stdout",
          "text": [
            "Epoch 1/12\n",
            "293/293 [==============================] - 113s 382ms/step - loss: 0.0902 - accuracy: 0.1083 - val_loss: 0.0899 - val_accuracy: 0.1111\n",
            "Epoch 2/12\n",
            "293/293 [==============================] - 108s 370ms/step - loss: 0.0901 - accuracy: 0.1114 - val_loss: 0.0898 - val_accuracy: 0.1138\n",
            "Epoch 3/12\n",
            "293/293 [==============================] - 108s 368ms/step - loss: 0.0899 - accuracy: 0.1187 - val_loss: 0.0897 - val_accuracy: 0.1239\n",
            "Epoch 4/12\n",
            "293/293 [==============================] - 108s 369ms/step - loss: 0.0898 - accuracy: 0.1233 - val_loss: 0.0897 - val_accuracy: 0.1347\n",
            "Epoch 5/12\n",
            "293/293 [==============================] - 107s 365ms/step - loss: 0.0897 - accuracy: 0.1285 - val_loss: 0.0896 - val_accuracy: 0.1435\n",
            "Epoch 6/12\n",
            "293/293 [==============================] - 107s 364ms/step - loss: 0.0897 - accuracy: 0.1333 - val_loss: 0.0896 - val_accuracy: 0.1510\n",
            "Epoch 7/12\n",
            "293/293 [==============================] - 107s 365ms/step - loss: 0.0896 - accuracy: 0.1345 - val_loss: 0.0895 - val_accuracy: 0.1582\n",
            "Epoch 8/12\n",
            "293/293 [==============================] - 107s 365ms/step - loss: 0.0895 - accuracy: 0.1414 - val_loss: 0.0895 - val_accuracy: 0.1648\n",
            "Epoch 9/12\n",
            "293/293 [==============================] - 107s 364ms/step - loss: 0.0894 - accuracy: 0.1448 - val_loss: 0.0894 - val_accuracy: 0.1732\n",
            "Epoch 10/12\n",
            "293/293 [==============================] - 107s 366ms/step - loss: 0.0893 - accuracy: 0.1505 - val_loss: 0.0893 - val_accuracy: 0.1814\n",
            "Epoch 11/12\n",
            "293/293 [==============================] - 107s 367ms/step - loss: 0.0892 - accuracy: 0.1535 - val_loss: 0.0893 - val_accuracy: 0.1881\n",
            "Epoch 12/12\n",
            "293/293 [==============================] - 107s 365ms/step - loss: 0.0891 - accuracy: 0.1573 - val_loss: 0.0892 - val_accuracy: 0.1940\n"
          ]
        }
      ],
      "source": [
        "#模型訓練, \"Train_History\" 把訓練過程所得到的數值存起來\n",
        "train_history=model.fit(x_img_train_normalize, y_label_train_OneHot,\n",
        "                        validation_split=0.25,\n",
        "                        epochs=12, batch_size=128, verbose=1) "
      ]
    },
    {
      "cell_type": "code",
      "source": [
        "import matplotlib.pyplot as plt\n",
        "%matplotlib inline\n",
        "\n",
        "#定義一個繪圖函數\n",
        "def show_train_history(train_acc,test_acc):\n",
        "    plt.plot(train_history.history[train_acc])\n",
        "    plt.plot(train_history.history[test_acc])\n",
        "    plt.title('Train History')\n",
        "    plt.ylabel('Accuracy')\n",
        "    plt.xlabel('Epoch')\n",
        "    plt.legend(['train_acc', 'val_acc'], loc='upper left')\n",
        "    plt.show()"
      ],
      "metadata": {
        "id": "ETC61crtXUlm"
      },
      "execution_count": 23,
      "outputs": []
    },
    {
      "cell_type": "code",
      "source": [
        "show_train_history('accuracy','val_accuracy')"
      ],
      "metadata": {
        "colab": {
          "base_uri": "https://localhost:8080/",
          "height": 295
        },
        "id": "j1YtW-ZyX5RK",
        "outputId": "3797cff5-2533-4601-9fb2-3f79a157d710"
      },
      "execution_count": 24,
      "outputs": [
        {
          "output_type": "display_data",
          "data": {
            "image/png": "[encoded data removed]",
            "text/plain": [
              "<Figure size 432x288 with 1 Axes>"
            ]
          },
          "metadata": {
            "needs_background": "light"
          }
        }
      ]
    },
    {
      "cell_type": "code",
      "source": [
        "# 評估模型準確率\n",
        "scores = model.evaluate(x_img_test_normalize, y_label_test_OneHot)\n",
        "print()\n",
        "print('accuracy=',scores[1])"
      ],
      "metadata": {
        "colab": {
          "base_uri": "https://localhost:8080/"
        },
        "id": "p5YACPWxYLiV",
        "outputId": "aebbeb18-4b7d-460c-8b38-033041194d84"
      },
      "execution_count": 25,
      "outputs": [
        {
          "output_type": "stream",
          "name": "stdout",
          "text": [
            "313/313 [==============================] - 8s 25ms/step - loss: 0.0892 - accuracy: 0.1990\n",
            "\n",
            "accuracy= 0.19900000095367432\n"
          ]
        }
      ]
    },
    {
      "cell_type": "code",
      "source": [
        "model.compile(loss=\"binary_crossentropy\", optimizer='sgd', metrics=['accuracy'])\n"
      ],
      "metadata": {
        "id": "TjOCv03oYRV_"
      },
      "execution_count": 26,
      "outputs": []
    },
    {
      "cell_type": "code",
      "source": [
        "#模型訓練, \"Train_History\" 把訓練過程所得到的數值存起來\n",
        "train_history=model.fit(x_img_train_normalize, y_label_train_OneHot,\n",
        "                        validation_split=0.25,\n",
        "                        epochs=12, batch_size=128, verbose=1) "
      ],
      "metadata": {
        "colab": {
          "base_uri": "https://localhost:8080/"
        },
        "id": "edM3B_jJYUgZ",
        "outputId": "b65e3a7c-7e40-4c00-e40f-98dec26150de"
      },
      "execution_count": 27,
      "outputs": [
        {
          "output_type": "stream",
          "name": "stdout",
          "text": [
            "Epoch 1/12\n",
            "293/293 [==============================] - 116s 392ms/step - loss: 0.3527 - accuracy: 0.1504 - val_loss: 0.3622 - val_accuracy: 0.2170\n",
            "Epoch 2/12\n",
            "293/293 [==============================] - 110s 374ms/step - loss: 0.3262 - accuracy: 0.1707 - val_loss: 0.3590 - val_accuracy: 0.2398\n",
            "Epoch 3/12\n",
            "293/293 [==============================] - 109s 372ms/step - loss: 0.3213 - accuracy: 0.1904 - val_loss: 0.3542 - val_accuracy: 0.2676\n",
            "Epoch 4/12\n",
            "293/293 [==============================] - 109s 374ms/step - loss: 0.3161 - accuracy: 0.2060 - val_loss: 0.3490 - val_accuracy: 0.2710\n",
            "Epoch 5/12\n",
            "293/293 [==============================] - 108s 368ms/step - loss: 0.3104 - accuracy: 0.2255 - val_loss: 0.3443 - val_accuracy: 0.2936\n",
            "Epoch 6/12\n",
            "293/293 [==============================] - 108s 369ms/step - loss: 0.3060 - accuracy: 0.2389 - val_loss: 0.3397 - val_accuracy: 0.2946\n",
            "Epoch 7/12\n",
            "293/293 [==============================] - 109s 372ms/step - loss: 0.3026 - accuracy: 0.2501 - val_loss: 0.3361 - val_accuracy: 0.3018\n",
            "Epoch 8/12\n",
            "293/293 [==============================] - 109s 372ms/step - loss: 0.3000 - accuracy: 0.2594 - val_loss: 0.3341 - val_accuracy: 0.3011\n",
            "Epoch 9/12\n",
            "293/293 [==============================] - 108s 370ms/step - loss: 0.2979 - accuracy: 0.2665 - val_loss: 0.3315 - val_accuracy: 0.3088\n",
            "Epoch 10/12\n",
            "293/293 [==============================] - 108s 370ms/step - loss: 0.2961 - accuracy: 0.2732 - val_loss: 0.3297 - val_accuracy: 0.3147\n",
            "Epoch 11/12\n",
            "293/293 [==============================] - 109s 372ms/step - loss: 0.2945 - accuracy: 0.2815 - val_loss: 0.3284 - val_accuracy: 0.3222\n",
            "Epoch 12/12\n",
            "293/293 [==============================] - 109s 373ms/step - loss: 0.2926 - accuracy: 0.2858 - val_loss: 0.3254 - val_accuracy: 0.3194\n"
          ]
        }
      ]
    },
    {
      "cell_type": "code",
      "source": [
        "import matplotlib.pyplot as plt\n",
        "%matplotlib inline\n",
        "\n",
        "#定義一個繪圖函數\n",
        "def show_train_history(train_acc,test_acc):\n",
        "    plt.plot(train_history.history[train_acc])\n",
        "    plt.plot(train_history.history[test_acc])\n",
        "    plt.title('Train History')\n",
        "    plt.ylabel('Accuracy')\n",
        "    plt.xlabel('Epoch')\n",
        "    plt.legend(['train_acc', 'val_acc'], loc='upper left')\n",
        "    plt.show()"
      ],
      "metadata": {
        "id": "PLl4c1-Bf-MS"
      },
      "execution_count": 28,
      "outputs": []
    },
    {
      "cell_type": "code",
      "source": [
        "# 評估模型準確率\n",
        "scores = model.evaluate(x_img_test_normalize, y_label_test_OneHot)\n",
        "print()\n",
        "print('accuracy=',scores[1])"
      ],
      "metadata": {
        "colab": {
          "base_uri": "https://localhost:8080/"
        },
        "id": "F1JoqbgxgIho",
        "outputId": "8e8beaa6-4017-40f6-e3fe-e20c792d5bad"
      },
      "execution_count": 31,
      "outputs": [
        {
          "output_type": "stream",
          "name": "stdout",
          "text": [
            "313/313 [==============================] - 7s 23ms/step - loss: 0.3241 - accuracy: 0.3328\n",
            "\n",
            "accuracy= 0.3328000009059906\n"
          ]
        }
      ]
    }
  ],
  "metadata": {
    "colab": {
      "name": "Day71-使用損失函數_HW.ipynb",
      "provenance": [],
      "include_colab_link": true
    },
    "kernelspec": {
      "display_name": "Python 3",
      "language": "python",
      "name": "python3"
    },
    "language_info": {
      "codemirror_mode": {
        "name": "ipython",
        "version": 3
      },
      "file_extension": ".py",
      "mimetype": "text/x-python",
      "name": "python",
      "nbconvert_exporter": "python",
      "pygments_lexer": "ipython3",
      "version": "3.7.0"
    }
  },
  "nbformat": 4,
  "nbformat_minor": 0
}