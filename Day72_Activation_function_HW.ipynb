{
  "cells": [
    {
      "cell_type": "markdown",
      "metadata": {
        "id": "view-in-github",
        "colab_type": "text"
      },
      "source": [
        "<a href=\"https://colab.research.google.com/github/kassy75035/1st-PyCrawlerMarathon/blob/master/Day72_Activation_function_HW.ipynb\" target=\"_parent\"><img src=\"https://colab.research.google.com/assets/colab-badge.svg\" alt=\"Open In Colab\"/></a>"
      ]
    },
    {
      "cell_type": "markdown",
      "metadata": {
        "id": "nvFCZe0wiF0a"
      },
      "source": [
        "# 作業目標:\n",
        "    寫出 ReLU & dReLU 一階導數\n",
        "    並列印\n"
      ]
    },
    {
      "cell_type": "markdown",
      "metadata": {
        "id": "rxPd1DA4iF0t"
      },
      "source": [
        "# 作業重點\n",
        "\n",
        "# Rectified Linear Unit- Relu \n",
        "\n",
        "f(x)=max(0,x)\n"
      ]
    },
    {
      "cell_type": "code",
      "execution_count": 25,
      "metadata": {
        "colab": {
          "base_uri": "https://localhost:8080/",
          "height": 299
        },
        "id": "SWlt0isHiF0v",
        "outputId": "2e383b1f-25b8-4c8a-ef22-7cb4229b9ff4"
      },
      "outputs": [
        {
          "output_type": "execute_result",
          "data": {
            "text/plain": [
              "Text(0.5, 1.0, 'ReLU Activation Function')"
            ]
          },
          "metadata": {},
          "execution_count": 25
        },
        {
          "output_type": "display_data",
          "data": {
            "image/png": "[encoded data removed]",
            "text/plain": [
              "<Figure size 432x288 with 1 Axes>"
            ]
          },
          "metadata": {
            "needs_background": "light"
          }
        }
      ],
      "source": [
        "import numpy as np\n",
        "from numpy import *\n",
        "import matplotlib.pylab as plt\n",
        "%matplotlib inline\n",
        "\n",
        "'''\n",
        "作業:\n",
        "    寫出 ReLU & dReLU 一階導數\n",
        "    並列印\n",
        "'''\n",
        "def ReLU(x):\n",
        "  ReLu = []\n",
        "  for i in x:\n",
        "    ReLu.append(max(0,i))\n",
        "  return ReLu\n",
        "\n",
        "\n",
        "# linespace generate an array from start and stop value\n",
        "# with requested number of elements. Example 10 elements or 100 elements.\n",
        "x = plt.linspace(-10,10,100)\n",
        "\n",
        "# prepare the plot, associate the color r(ed) or b(lue) and the label \n",
        "plt.plot(x, ReLU(x), 'b', label='linspace(-10,10,10)')\n",
        "\n",
        "# Draw the grid line in background.\n",
        "plt.grid()\n",
        "\n",
        "plt.title('ReLU Activation Function')\n",
        "\n",
        "# #resize the X and Y axes\n",
        "# plt.gca().xaxis.set_major_locator(plt.MultipleLocator(1))\n",
        "# plt.gca().yaxis.set_major_locator(plt.MultipleLocator(1))\n",
        " \n",
        "# create the graph\n",
        "# plt.show()"
      ]
    },
    {
      "cell_type": "code",
      "execution_count": 27,
      "metadata": {
        "colab": {
          "base_uri": "https://localhost:8080/",
          "height": 299
        },
        "id": "kjlrfCVJiF05",
        "outputId": "3af374f5-4e92-4044-a38c-496b0bbb2855"
      },
      "outputs": [
        {
          "output_type": "execute_result",
          "data": {
            "text/plain": [
              "Text(0.5, 1.0, 'dReLU Activation Function')"
            ]
          },
          "metadata": {},
          "execution_count": 27
        },
        {
          "output_type": "display_data",
          "data": {
            "image/png": "[encoded data removed]",
            "text/plain": [
              "<Figure size 432x288 with 1 Axes>"
            ]
          },
          "metadata": {
            "needs_background": "light"
          }
        }
      ],
      "source": [
        "def dReLU(x):\n",
        "  dReLu = []\n",
        "  for i in x:\n",
        "    if i>0:\n",
        "      dReLu.append(1)\n",
        "    else:\n",
        "      dReLu.append(0)\n",
        "    \n",
        "  return dReLu\n",
        "\n",
        "\n",
        "# linespace generate an array from start and stop value\n",
        "# with requested number of elements. Example 10 elements or 100 elements.\n",
        "x = plt.linspace(-10,10,100)\n",
        "\n",
        "# prepare the plot, associate the color r(ed) or b(lue) and the label \n",
        "plt.plot(x, dReLU(x), 'b', label='linspace(-10,10,10)')\n",
        "\n",
        "# Draw the grid line in background.\n",
        "plt.grid()\n",
        "\n",
        "plt.title('dReLU Activation Function')\n",
        "\n",
        "# #resize the X and Y axes\n",
        "# plt.gca().xaxis.set_major_locator(plt.MultipleLocator(1))\n",
        "# plt.gca().yaxis.set_major_locator(plt.MultipleLocator(1))\n",
        " \n",
        "# create the graph\n",
        "# plt.show()"
      ]
    },
    {
      "cell_type": "code",
      "source": [
        "x"
      ],
      "metadata": {
        "colab": {
          "base_uri": "https://localhost:8080/"
        },
        "id": "W7jA6RO5kjf4",
        "outputId": "a5691092-0de3-4d5c-c714-12e09d574047"
      },
      "execution_count": 16,
      "outputs": [
        {
          "output_type": "execute_result",
          "data": {
            "text/plain": [
              "array([ 0.        ,  0.        ,  0.        ,  0.        ,  0.        ,\n",
              "        0.        ,  0.        ,  0.        ,  0.        ,  0.        ,\n",
              "        0.        ,  0.        ,  0.        ,  0.        ,  0.        ,\n",
              "        0.        ,  0.        ,  0.        ,  0.        ,  0.        ,\n",
              "        0.        ,  0.        ,  0.        ,  0.        ,  0.        ,\n",
              "        0.        ,  0.        ,  0.        ,  0.        ,  0.        ,\n",
              "        0.        ,  0.        ,  0.        ,  0.        ,  0.        ,\n",
              "        0.        ,  0.        ,  0.        ,  0.        ,  0.        ,\n",
              "        0.        ,  0.        ,  0.        ,  0.        ,  0.        ,\n",
              "        0.        ,  0.        ,  0.        ,  0.        ,  0.        ,\n",
              "        0.1010101 ,  0.3030303 ,  0.50505051,  0.70707071,  0.90909091,\n",
              "        1.11111111,  1.31313131,  1.51515152,  1.71717172,  1.91919192,\n",
              "        2.12121212,  2.32323232,  2.52525253,  2.72727273,  2.92929293,\n",
              "        3.13131313,  3.33333333,  3.53535354,  3.73737374,  3.93939394,\n",
              "        4.14141414,  4.34343434,  4.54545455,  4.74747475,  4.94949495,\n",
              "        5.15151515,  5.35353535,  5.55555556,  5.75757576,  5.95959596,\n",
              "        6.16161616,  6.36363636,  6.56565657,  6.76767677,  6.96969697,\n",
              "        7.17171717,  7.37373737,  7.57575758,  7.77777778,  7.97979798,\n",
              "        8.18181818,  8.38383838,  8.58585859,  8.78787879,  8.98989899,\n",
              "        9.19191919,  9.39393939,  9.5959596 ,  9.7979798 , 10.        ])"
            ]
          },
          "metadata": {},
          "execution_count": 16
        }
      ]
    },
    {
      "cell_type": "code",
      "source": [
        ""
      ],
      "metadata": {
        "id": "AzAZjuY-mDPN"
      },
      "execution_count": null,
      "outputs": []
    }
  ],
  "metadata": {
    "kernelspec": {
      "display_name": "Python 3",
      "language": "python",
      "name": "python3"
    },
    "language_info": {
      "codemirror_mode": {
        "name": "ipython",
        "version": 3
      },
      "file_extension": ".py",
      "mimetype": "text/x-python",
      "name": "python",
      "nbconvert_exporter": "python",
      "pygments_lexer": "ipython3",
      "version": "3.7.0"
    },
    "colab": {
      "name": "Day72-Activation_function_HW.ipynb",
      "provenance": [],
      "include_colab_link": true
    }
  },
  "nbformat": 4,
  "nbformat_minor": 0
}