{
  "cells": [
    {
      "cell_type": "markdown",
      "metadata": {
        "id": "view-in-github",
        "colab_type": "text"
      },
      "source": [
        "<a href=\"https://colab.research.google.com/github/kassy75035/1st-PyCrawlerMarathon/blob/master/Day086_CB_ModelCheckPoint_%E4%BD%9C%E6%A5%AD_.ipynb\" target=\"_parent\"><img src=\"https://colab.research.google.com/assets/colab-badge.svg\" alt=\"Open In Colab\"/></a>"
      ]
    },
    {
      "cell_type": "markdown",
      "metadata": {
        "id": "O2QPY6aMnsVd"
      },
      "source": [
        "## Work\n",
        "1. 試比較 save_best_only 與否的差異\n",
        "2. 請僅存入將 save_weights_only 設定為 True, 並嘗試 reset ipynb 並將模型與權重重新建回並預測 x_test"
      ]
    },
    {
      "cell_type": "code",
      "execution_count": 1,
      "metadata": {
        "id": "2sNESt8tnsVq"
      },
      "outputs": [],
      "source": [
        "import os\n",
        "from tensorflow import keras\n",
        "\n",
        "# Disable GPU\n",
        "os.environ[\"CUDA_VISIBLE_DEVICES\"] = \"\""
      ]
    },
    {
      "cell_type": "code",
      "execution_count": 2,
      "metadata": {
        "colab": {
          "base_uri": "https://localhost:8080/"
        },
        "id": "K0vvVgr3nsV4",
        "outputId": "362f4152-60ba-43ab-da32-9bffce6fd171"
      },
      "outputs": [
        {
          "output_type": "stream",
          "name": "stdout",
          "text": [
            "Downloading data from https://www.cs.toronto.edu/~kriz/cifar-10-python.tar.gz\n",
            "170500096/170498071 [==============================] - 2s 0us/step\n",
            "170508288/170498071 [==============================] - 2s 0us/step\n"
          ]
        }
      ],
      "source": [
        "train, test = keras.datasets.cifar10.load_data()"
      ]
    },
    {
      "cell_type": "code",
      "execution_count": 3,
      "metadata": {
        "id": "U193mN7xnsV6"
      },
      "outputs": [],
      "source": [
        "## 資料前處理\n",
        "def preproc_x(x, flatten=True):\n",
        "    x = x / 255.\n",
        "    if flatten:\n",
        "        x = x.reshape((len(x), -1))\n",
        "    return x\n",
        "\n",
        "def preproc_y(y, num_classes=10):\n",
        "    if y.shape[-1] == 1:\n",
        "        y = keras.utils.to_categorical(y, num_classes)\n",
        "    return y    "
      ]
    },
    {
      "cell_type": "code",
      "execution_count": 4,
      "metadata": {
        "id": "iBoQXzEPnsWq"
      },
      "outputs": [],
      "source": [
        "x_train, y_train = train\n",
        "x_test, y_test = test\n",
        "\n",
        "# Preproc the inputs\n",
        "x_train = preproc_x(x_train)\n",
        "x_test = preproc_x(x_test)\n",
        "\n",
        "# Preprc the outputs\n",
        "y_train = preproc_y(y_train)\n",
        "y_test = preproc_y(y_test)"
      ]
    },
    {
      "cell_type": "code",
      "execution_count": 5,
      "metadata": {
        "id": "l0ixKxL9nsWw"
      },
      "outputs": [],
      "source": [
        "from keras.layers import BatchNormalization\n",
        "\n",
        "\"\"\"\n",
        "建立神經網路，並加入 BN layer\n",
        "\"\"\"\n",
        "def build_mlp(input_shape, output_units=10, num_neurons=[512, 256, 128]):\n",
        "    input_layer = keras.layers.Input(input_shape)\n",
        "    \n",
        "    for i, n_units in enumerate(num_neurons):\n",
        "        if i == 0:\n",
        "            x = keras.layers.Dense(units=n_units, \n",
        "                                   activation=\"relu\", \n",
        "                                   name=\"hidden_layer\"+str(i+1))(input_layer)\n",
        "            x = BatchNormalization()(x)\n",
        "        else:\n",
        "            x = keras.layers.Dense(units=n_units, \n",
        "                                   activation=\"relu\", \n",
        "                                   name=\"hidden_layer\"+str(i+1))(x)\n",
        "            x = BatchNormalization()(x)\n",
        "    \n",
        "    out = keras.layers.Dense(units=output_units, activation=\"softmax\", name=\"output\")(x)\n",
        "    \n",
        "    model = keras.models.Model(inputs=[input_layer], outputs=[out])\n",
        "    return model"
      ]
    },
    {
      "cell_type": "code",
      "execution_count": 6,
      "metadata": {
        "id": "dyIUXYywnsWy"
      },
      "outputs": [],
      "source": [
        "\"\"\"Code Here\n",
        "設定超參數\n",
        "\"\"\"\n",
        "LEARNING_RATE = 1e-3\n",
        "EPOCHS = 50\n",
        "BATCH_SIZE = 1024\n",
        "MOMENTUM = 0.95"
      ]
    },
    {
      "cell_type": "code",
      "execution_count": 7,
      "metadata": {
        "id": "tedlOg9fnsW0"
      },
      "outputs": [],
      "source": [
        "# 載入 Callbacks\n",
        "\"\"\"\n",
        "# 載入 Callbacks, 並將監控目標設為 validation loss, 且只存最佳參數時的模型\n",
        "\n",
        "參數說明：\n",
        "filepath: 儲存模型的路徑與檔名\n",
        "mointor: 以什麼指標作為判斷標準\n",
        "save_best_only: 是否只要儲存最好的\n",
        "\n",
        "\n",
        "\"\"\"\n",
        "from keras.callbacks import ModelCheckpoint\n",
        "\n",
        "model_ckpt = ModelCheckpoint(filepath=\"./tmp.h5\", \n",
        "                             monitor=\"val_loss\", \n",
        "                             save_best_only=True)"
      ]
    },
    {
      "cell_type": "code",
      "source": [
        "model = build_mlp(input_shape=x_train.shape[1:])\n",
        "model.summary()\n",
        "optimizer = keras.optimizers.SGD(lr=LEARNING_RATE, nesterov=True, momentum=MOMENTUM)\n",
        "model.compile(loss=\"categorical_crossentropy\", metrics=[\"accuracy\"], optimizer=optimizer)\n",
        "\n",
        "model.fit(x_train, y_train, \n",
        "          epochs=EPOCHS, \n",
        "          batch_size=BATCH_SIZE, \n",
        "          validation_data=(x_test, y_test), \n",
        "          shuffle=True,\n",
        "          callbacks=[model_ckpt]\n",
        "         )\n",
        "\n",
        "# Collect results\n",
        "train_loss = model.history.history[\"loss\"]\n",
        "valid_loss = model.history.history[\"val_loss\"]\n",
        "train_acc = model.history.history[\"accuracy\"]\n",
        "valid_acc = model.history.history[\"val_accuracy\"]\n",
        "\n",
        "# Load back\n",
        "model = keras.models.load_model(\"./tmp.h5\")\n",
        "loss_loadback, acc_loadback = model.evaluate(x_test, y_test)"
      ],
      "metadata": {
        "colab": {
          "base_uri": "https://localhost:8080/"
        },
        "id": "ezk8lHdIp-8E",
        "outputId": "1de1b8e9-2d65-43d6-b1e3-579c5074dfb1"
      },
      "execution_count": 8,
      "outputs": [
        {
          "output_type": "stream",
          "name": "stdout",
          "text": [
            "Model: \"model\"\n",
            "_________________________________________________________________\n",
            " Layer (type)                Output Shape              Param #   \n",
            "=================================================================\n",
            " input_1 (InputLayer)        [(None, 3072)]            0         \n",
            "                                                                 \n",
            " hidden_layer1 (Dense)       (None, 512)               1573376   \n",
            "                                                                 \n",
            " batch_normalization (BatchN  (None, 512)              2048      \n",
            " ormalization)                                                   \n",
            "                                                                 \n",
            " hidden_layer2 (Dense)       (None, 256)               131328    \n",
            "                                                                 \n",
            " batch_normalization_1 (Batc  (None, 256)              1024      \n",
            " hNormalization)                                                 \n",
            "                                                                 \n",
            " hidden_layer3 (Dense)       (None, 128)               32896     \n",
            "                                                                 \n",
            " batch_normalization_2 (Batc  (None, 128)              512       \n",
            " hNormalization)                                                 \n",
            "                                                                 \n",
            " output (Dense)              (None, 10)                1290      \n",
            "                                                                 \n",
            "=================================================================\n",
            "Total params: 1,742,474\n",
            "Trainable params: 1,740,682\n",
            "Non-trainable params: 1,792\n",
            "_________________________________________________________________\n"
          ]
        },
        {
          "output_type": "stream",
          "name": "stderr",
          "text": [
            "/usr/local/lib/python3.7/dist-packages/keras/optimizer_v2/gradient_descent.py:102: UserWarning: The `lr` argument is deprecated, use `learning_rate` instead.\n",
            "  super(SGD, self).__init__(name, **kwargs)\n"
          ]
        },
        {
          "output_type": "stream",
          "name": "stdout",
          "text": [
            "Epoch 1/50\n",
            "49/49 [==============================] - 12s 216ms/step - loss: 2.2364 - accuracy: 0.2670 - val_loss: 2.1626 - val_accuracy: 0.2134\n",
            "Epoch 2/50\n",
            "49/49 [==============================] - 8s 167ms/step - loss: 1.7494 - accuracy: 0.3937 - val_loss: 2.0052 - val_accuracy: 0.2779\n",
            "Epoch 3/50\n",
            "49/49 [==============================] - 9s 177ms/step - loss: 1.6215 - accuracy: 0.4326 - val_loss: 1.8543 - val_accuracy: 0.3441\n",
            "Epoch 4/50\n",
            "49/49 [==============================] - 9s 178ms/step - loss: 1.5474 - accuracy: 0.4569 - val_loss: 1.7463 - val_accuracy: 0.3830\n",
            "Epoch 5/50\n",
            "49/49 [==============================] - 8s 171ms/step - loss: 1.4909 - accuracy: 0.4796 - val_loss: 1.6537 - val_accuracy: 0.4257\n",
            "Epoch 6/50\n",
            "49/49 [==============================] - 8s 165ms/step - loss: 1.4449 - accuracy: 0.4966 - val_loss: 1.5936 - val_accuracy: 0.4454\n",
            "Epoch 7/50\n",
            "49/49 [==============================] - 8s 168ms/step - loss: 1.4056 - accuracy: 0.5102 - val_loss: 1.5585 - val_accuracy: 0.4536\n",
            "Epoch 8/50\n",
            "49/49 [==============================] - 8s 169ms/step - loss: 1.3700 - accuracy: 0.5208 - val_loss: 1.5395 - val_accuracy: 0.4631\n",
            "Epoch 9/50\n",
            "49/49 [==============================] - 8s 174ms/step - loss: 1.3376 - accuracy: 0.5337 - val_loss: 1.5186 - val_accuracy: 0.4649\n",
            "Epoch 10/50\n",
            "49/49 [==============================] - 9s 179ms/step - loss: 1.3090 - accuracy: 0.5452 - val_loss: 1.4933 - val_accuracy: 0.4715\n",
            "Epoch 11/50\n",
            "49/49 [==============================] - 8s 165ms/step - loss: 1.2802 - accuracy: 0.5527 - val_loss: 1.4933 - val_accuracy: 0.4726\n",
            "Epoch 12/50\n",
            "49/49 [==============================] - 9s 179ms/step - loss: 1.2532 - accuracy: 0.5634 - val_loss: 1.4748 - val_accuracy: 0.4778\n",
            "Epoch 13/50\n",
            "49/49 [==============================] - 8s 163ms/step - loss: 1.2275 - accuracy: 0.5743 - val_loss: 1.4824 - val_accuracy: 0.4789\n",
            "Epoch 14/50\n",
            "49/49 [==============================] - 8s 164ms/step - loss: 1.2018 - accuracy: 0.5822 - val_loss: 1.4664 - val_accuracy: 0.4854\n",
            "Epoch 15/50\n",
            "49/49 [==============================] - 8s 163ms/step - loss: 1.1785 - accuracy: 0.5954 - val_loss: 1.4690 - val_accuracy: 0.4890\n",
            "Epoch 16/50\n",
            "49/49 [==============================] - 9s 180ms/step - loss: 1.1551 - accuracy: 0.6031 - val_loss: 1.4624 - val_accuracy: 0.4869\n",
            "Epoch 17/50\n",
            "49/49 [==============================] - 8s 169ms/step - loss: 1.1314 - accuracy: 0.6124 - val_loss: 1.4589 - val_accuracy: 0.4899\n",
            "Epoch 18/50\n",
            "49/49 [==============================] - 8s 173ms/step - loss: 1.1086 - accuracy: 0.6198 - val_loss: 1.4555 - val_accuracy: 0.4931\n",
            "Epoch 19/50\n",
            "49/49 [==============================] - 9s 176ms/step - loss: 1.0866 - accuracy: 0.6285 - val_loss: 1.4730 - val_accuracy: 0.4879\n",
            "Epoch 20/50\n",
            "49/49 [==============================] - 9s 176ms/step - loss: 1.0661 - accuracy: 0.6348 - val_loss: 1.4564 - val_accuracy: 0.4926\n",
            "Epoch 21/50\n",
            "49/49 [==============================] - 9s 184ms/step - loss: 1.0444 - accuracy: 0.6440 - val_loss: 1.4507 - val_accuracy: 0.4960\n",
            "Epoch 22/50\n",
            "49/49 [==============================] - 9s 174ms/step - loss: 1.0248 - accuracy: 0.6527 - val_loss: 1.4585 - val_accuracy: 0.4977\n",
            "Epoch 23/50\n",
            "49/49 [==============================] - 9s 178ms/step - loss: 1.0030 - accuracy: 0.6609 - val_loss: 1.4678 - val_accuracy: 0.4950\n",
            "Epoch 24/50\n",
            "49/49 [==============================] - 9s 178ms/step - loss: 0.9835 - accuracy: 0.6678 - val_loss: 1.4564 - val_accuracy: 0.4933\n",
            "Epoch 25/50\n",
            "49/49 [==============================] - 9s 178ms/step - loss: 0.9623 - accuracy: 0.6773 - val_loss: 1.4726 - val_accuracy: 0.4924\n",
            "Epoch 26/50\n",
            "49/49 [==============================] - 9s 176ms/step - loss: 0.9425 - accuracy: 0.6853 - val_loss: 1.4657 - val_accuracy: 0.4967\n",
            "Epoch 27/50\n",
            "49/49 [==============================] - 10s 204ms/step - loss: 0.9234 - accuracy: 0.6925 - val_loss: 1.4868 - val_accuracy: 0.4862\n",
            "Epoch 28/50\n",
            "49/49 [==============================] - 10s 213ms/step - loss: 0.9044 - accuracy: 0.6981 - val_loss: 1.4761 - val_accuracy: 0.5003\n",
            "Epoch 29/50\n",
            "49/49 [==============================] - 9s 192ms/step - loss: 0.8847 - accuracy: 0.7078 - val_loss: 1.4923 - val_accuracy: 0.4968\n",
            "Epoch 30/50\n",
            "49/49 [==============================] - 8s 171ms/step - loss: 0.8658 - accuracy: 0.7132 - val_loss: 1.4926 - val_accuracy: 0.4926\n",
            "Epoch 31/50\n",
            "49/49 [==============================] - 8s 171ms/step - loss: 0.8469 - accuracy: 0.7214 - val_loss: 1.4946 - val_accuracy: 0.4949\n",
            "Epoch 32/50\n",
            "49/49 [==============================] - 11s 226ms/step - loss: 0.8268 - accuracy: 0.7292 - val_loss: 1.5131 - val_accuracy: 0.4945\n",
            "Epoch 33/50\n",
            "49/49 [==============================] - 10s 201ms/step - loss: 0.8090 - accuracy: 0.7350 - val_loss: 1.5055 - val_accuracy: 0.4960\n",
            "Epoch 34/50\n",
            "49/49 [==============================] - 8s 166ms/step - loss: 0.7894 - accuracy: 0.7432 - val_loss: 1.5140 - val_accuracy: 0.4935\n",
            "Epoch 35/50\n",
            "49/49 [==============================] - 8s 169ms/step - loss: 0.7706 - accuracy: 0.7515 - val_loss: 1.5200 - val_accuracy: 0.4976\n",
            "Epoch 36/50\n",
            "49/49 [==============================] - 9s 181ms/step - loss: 0.7522 - accuracy: 0.7574 - val_loss: 1.5233 - val_accuracy: 0.4965\n",
            "Epoch 37/50\n",
            "49/49 [==============================] - 8s 172ms/step - loss: 0.7340 - accuracy: 0.7656 - val_loss: 1.5370 - val_accuracy: 0.4951\n",
            "Epoch 38/50\n",
            "49/49 [==============================] - 8s 170ms/step - loss: 0.7151 - accuracy: 0.7738 - val_loss: 1.5468 - val_accuracy: 0.4962\n",
            "Epoch 39/50\n",
            "49/49 [==============================] - 9s 176ms/step - loss: 0.6980 - accuracy: 0.7807 - val_loss: 1.5595 - val_accuracy: 0.4922\n",
            "Epoch 40/50\n",
            "49/49 [==============================] - 10s 200ms/step - loss: 0.6789 - accuracy: 0.7877 - val_loss: 1.5741 - val_accuracy: 0.4871\n",
            "Epoch 41/50\n",
            "49/49 [==============================] - 9s 185ms/step - loss: 0.6613 - accuracy: 0.7952 - val_loss: 1.5796 - val_accuracy: 0.4925\n",
            "Epoch 42/50\n",
            "49/49 [==============================] - 10s 198ms/step - loss: 0.6443 - accuracy: 0.8032 - val_loss: 1.5952 - val_accuracy: 0.4916\n",
            "Epoch 43/50\n",
            "49/49 [==============================] - 9s 190ms/step - loss: 0.6263 - accuracy: 0.8084 - val_loss: 1.5933 - val_accuracy: 0.4931\n",
            "Epoch 44/50\n",
            "49/49 [==============================] - 9s 194ms/step - loss: 0.6080 - accuracy: 0.8173 - val_loss: 1.6183 - val_accuracy: 0.4845\n",
            "Epoch 45/50\n",
            "49/49 [==============================] - 13s 261ms/step - loss: 0.5905 - accuracy: 0.8236 - val_loss: 1.6244 - val_accuracy: 0.4893\n",
            "Epoch 46/50\n",
            "49/49 [==============================] - 14s 295ms/step - loss: 0.5769 - accuracy: 0.8288 - val_loss: 1.6183 - val_accuracy: 0.4970\n",
            "Epoch 47/50\n",
            "49/49 [==============================] - 12s 248ms/step - loss: 0.5575 - accuracy: 0.8366 - val_loss: 1.6233 - val_accuracy: 0.4876\n",
            "Epoch 48/50\n",
            "49/49 [==============================] - 10s 209ms/step - loss: 0.5419 - accuracy: 0.8425 - val_loss: 1.6546 - val_accuracy: 0.4877\n",
            "Epoch 49/50\n",
            "49/49 [==============================] - 12s 239ms/step - loss: 0.5256 - accuracy: 0.8498 - val_loss: 1.6733 - val_accuracy: 0.4920\n",
            "Epoch 50/50\n",
            "49/49 [==============================] - 11s 226ms/step - loss: 0.5101 - accuracy: 0.8544 - val_loss: 1.6882 - val_accuracy: 0.4929\n",
            "313/313 [==============================] - 3s 9ms/step - loss: 1.4507 - accuracy: 0.4960\n"
          ]
        }
      ]
    },
    {
      "cell_type": "code",
      "execution_count": 9,
      "metadata": {
        "scrolled": true,
        "colab": {
          "base_uri": "https://localhost:8080/",
          "height": 545
        },
        "id": "B0A67BB0nsXD",
        "outputId": "1c4ab522-c8f9-4021-a170-7ccba84b7b33"
      },
      "outputs": [
        {
          "output_type": "display_data",
          "data": {
            "image/png": "[encoded data removed]",
            "text/plain": [
              "<Figure size 432x288 with 1 Axes>"
            ]
          },
          "metadata": {
            "needs_background": "light"
          }
        },
        {
          "output_type": "display_data",
          "data": {
            "image/png": "[encoded data removed]",
            "text/plain": [
              "<Figure size 432x288 with 1 Axes>"
            ]
          },
          "metadata": {
            "needs_background": "light"
          }
        }
      ],
      "source": [
        "import matplotlib.pyplot as plt\n",
        "%matplotlib inline\n",
        "\"\"\"Code Here\n",
        "將結果繪出\n",
        "\"\"\"\n",
        "import matplotlib.pyplot as plt\n",
        "%matplotlib inline\n",
        "\n",
        "plt.plot(range(len(train_loss)), train_loss, label=\"train loss\")\n",
        "plt.plot(range(len(valid_loss)), valid_loss, label=\"valid loss\")\n",
        "plt.hlines(y=loss_loadback, xmin=0, xmax=len(train_loss), colors='r', linestyles='--')\n",
        "plt.legend()\n",
        "plt.title(\"Loss\")\n",
        "plt.show()\n",
        "\n",
        "plt.plot(range(len(train_acc)), train_acc, label=\"train accuracy\")\n",
        "plt.plot(range(len(valid_acc)), valid_acc, label=\"valid accuracy\")\n",
        "plt.hlines(y=acc_loadback, xmin=0, xmax=len(train_loss), colors='r', linestyles='--')\n",
        "plt.legend()\n",
        "plt.title(\"Accuracy\")\n",
        "plt.show()"
      ]
    }
  ],
  "metadata": {
    "kernelspec": {
      "display_name": "Python 3",
      "language": "python",
      "name": "python3"
    },
    "language_info": {
      "codemirror_mode": {
        "name": "ipython",
        "version": 3
      },
      "file_extension": ".py",
      "mimetype": "text/x-python",
      "name": "python",
      "nbconvert_exporter": "python",
      "pygments_lexer": "ipython3",
      "version": "3.7.5"
    },
    "colab": {
      "name": "Day086_CB_ModelCheckPoint_作業 .ipynb",
      "provenance": [],
      "include_colab_link": true
    }
  },
  "nbformat": 4,
  "nbformat_minor": 0
}