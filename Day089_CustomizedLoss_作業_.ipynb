{
  "cells": [
    {
      "cell_type": "markdown",
      "metadata": {
        "id": "view-in-github",
        "colab_type": "text"
      },
      "source": [
        "<a href=\"https://colab.research.google.com/github/kassy75035/1st-PyCrawlerMarathon/blob/master/Day089_CustomizedLoss_%E4%BD%9C%E6%A5%AD_.ipynb\" target=\"_parent\"><img src=\"https://colab.research.google.com/assets/colab-badge.svg\" alt=\"Open In Colab\"/></a>"
      ]
    },
    {
      "cell_type": "markdown",
      "metadata": {
        "id": "WLz1hfRkHkZv"
      },
      "source": [
        "## Work\n",
        "1. 請自行定義一個 loss function, 為 0.3 * focal loss + 0.7 cross-entropy，訓練並比較結果\n"
      ]
    },
    {
      "cell_type": "code",
      "execution_count": 1,
      "metadata": {
        "id": "puMjWAOUHkaA"
      },
      "outputs": [],
      "source": [
        "import os\n",
        "from tensorflow import keras\n",
        "\n",
        "# Disable GPU\n",
        "os.environ[\"CUDA_VISIBLE_DEVICES\"] = \"\""
      ]
    },
    {
      "cell_type": "code",
      "execution_count": 2,
      "metadata": {
        "colab": {
          "base_uri": "https://localhost:8080/"
        },
        "id": "aRS-5Z34HkaE",
        "outputId": "a0a8ae4a-dfa1-448d-a66c-85c004ccdb85"
      },
      "outputs": [
        {
          "output_type": "stream",
          "name": "stdout",
          "text": [
            "Downloading data from https://www.cs.toronto.edu/~kriz/cifar-10-python.tar.gz\n",
            "170500096/170498071 [==============================] - 6s 0us/step\n",
            "170508288/170498071 [==============================] - 6s 0us/step\n"
          ]
        }
      ],
      "source": [
        "train, test = keras.datasets.cifar10.load_data()"
      ]
    },
    {
      "cell_type": "code",
      "execution_count": 3,
      "metadata": {
        "id": "Ivv9v_C7HkaG"
      },
      "outputs": [],
      "source": [
        "## 資料前處理\n",
        "def preproc_x(x, flatten=True):\n",
        "    x = x / 255.\n",
        "    if flatten:\n",
        "        x = x.reshape((len(x), -1))\n",
        "    return x\n",
        "\n",
        "def preproc_y(y, num_classes=10):\n",
        "    if y.shape[-1] == 1:\n",
        "        y = keras.utils.to_categorical(y, num_classes)\n",
        "    return y    "
      ]
    },
    {
      "cell_type": "code",
      "execution_count": 4,
      "metadata": {
        "id": "2kT882rSHkaJ"
      },
      "outputs": [],
      "source": [
        "x_train, y_train = train\n",
        "x_test, y_test = test\n",
        "\n",
        "# Preproc the inputs\n",
        "x_train = preproc_x(x_train)\n",
        "x_test = preproc_x(x_test)\n",
        "\n",
        "# Preprc the outputs\n",
        "y_train = preproc_y(y_train)\n",
        "y_test = preproc_y(y_test)"
      ]
    },
    {
      "cell_type": "code",
      "execution_count": 10,
      "metadata": {
        "id": "6ujYV0boHkaL"
      },
      "outputs": [],
      "source": [
        "from keras.layers import BatchNormalization\n",
        "\n",
        "\"\"\"\n",
        "建立神經網路，並加入 BN layer\n",
        "\"\"\"\n",
        "def build_mlp(input_shape, output_units=10, num_neurons=[512, 256, 128]):\n",
        "    input_layer = keras.layers.Input(input_shape)\n",
        "    \n",
        "    for i, n_units in enumerate(num_neurons):\n",
        "        if i == 0:\n",
        "            x = keras.layers.Dense(units=n_units, \n",
        "                                   activation=\"relu\", \n",
        "                                   name=\"hidden_layer\"+str(i+1))(input_layer)\n",
        "            x = BatchNormalization()(x)\n",
        "        else:\n",
        "            x = keras.layers.Dense(units=n_units, \n",
        "                                   activation=\"relu\", \n",
        "                                   name=\"hidden_layer\"+str(i+1))(x)\n",
        "            x = BatchNormalization()(x)\n",
        "    \n",
        "    out = keras.layers.Dense(units=output_units, activation=\"softmax\", name=\"output\")(x)\n",
        "    \n",
        "    model = keras.models.Model(inputs=[input_layer], outputs=[out])\n",
        "    return model"
      ]
    },
    {
      "cell_type": "code",
      "execution_count": 6,
      "metadata": {
        "id": "QFy8IkfbHkaO"
      },
      "outputs": [],
      "source": [
        "## 超參數設定\n",
        "LEARNING_RATE = 1e-3\n",
        "EPOCHS = 25\n",
        "BATCH_SIZE = 1024\n",
        "MOMENTUM = 0.95"
      ]
    },
    {
      "cell_type": "code",
      "execution_count": 8,
      "metadata": {
        "id": "UaXvgYhaHkaT"
      },
      "outputs": [],
      "source": [
        "import tensorflow as tf\n",
        "import keras.backend as K\n",
        "\n",
        "\"\"\"Code Here\n",
        "撰寫一個 loss function, 使其可以結合 focal loss 與 crossentropy loss\n",
        "\"\"\"\n",
        "def combined_loss(gamma=2., alpha=4.):\n",
        "    \"\"\"Define the customized loss.\"\"\"\n",
        "    gamma = float(gamma)\n",
        "    alpha = float(alpha)\n",
        "    def focal_loss_fixed(y_true, y_pred):\n",
        "        \"\"\"Focal loss for multi-classification\n",
        "        FL(p_t)=-alpha(1-p_t)^{gamma}ln(p_t)\n",
        "        \"\"\"\n",
        "        epsilon = 1e-8\n",
        "        y_true = tf.convert_to_tensor(y_true, tf.float32)\n",
        "        y_pred = tf.convert_to_tensor(y_pred, tf.float32)\n",
        "\n",
        "        model_out = tf.add(y_pred, epsilon)\n",
        "        ce = tf.multiply(y_true, -tf.math.log(model_out))\n",
        "        weight = tf.multiply(y_true, tf.pow(tf.subtract(1., model_out), gamma))\n",
        "        fl = tf.multiply(alpha, tf.multiply(weight, ce))\n",
        "        reduced_fl = tf.reduce_max(fl, axis=1)\n",
        "        return tf.reduce_mean(reduced_fl)\n",
        "    return focal_loss_fixed \n",
        "\n",
        "ce_weights_list = [1]"
      ]
    },
    {
      "cell_type": "code",
      "execution_count": 11,
      "metadata": {
        "scrolled": true,
        "colab": {
          "base_uri": "https://localhost:8080/"
        },
        "id": "NUBezy0QHkaX",
        "outputId": "830e9838-cbd2-449b-b77e-960c26a42bb6"
      },
      "outputs": [
        {
          "output_type": "stream",
          "name": "stdout",
          "text": [
            "Numbers of exp: 0, ce_weight: 1.00\n",
            "Model: \"model\"\n",
            "_________________________________________________________________\n",
            " Layer (type)                Output Shape              Param #   \n",
            "=================================================================\n",
            " input_1 (InputLayer)        [(None, 3072)]            0         \n",
            "                                                                 \n",
            " hidden_layer1 (Dense)       (None, 512)               1573376   \n",
            "                                                                 \n",
            " batch_normalization (BatchN  (None, 512)              2048      \n",
            " ormalization)                                                   \n",
            "                                                                 \n",
            " hidden_layer2 (Dense)       (None, 256)               131328    \n",
            "                                                                 \n",
            " batch_normalization_1 (Batc  (None, 256)              1024      \n",
            " hNormalization)                                                 \n",
            "                                                                 \n",
            " hidden_layer3 (Dense)       (None, 128)               32896     \n",
            "                                                                 \n",
            " batch_normalization_2 (Batc  (None, 128)              512       \n",
            " hNormalization)                                                 \n",
            "                                                                 \n",
            " output (Dense)              (None, 10)                1290      \n",
            "                                                                 \n",
            "=================================================================\n",
            "Total params: 1,742,474\n",
            "Trainable params: 1,740,682\n",
            "Non-trainable params: 1,792\n",
            "_________________________________________________________________\n"
          ]
        },
        {
          "output_type": "stream",
          "name": "stderr",
          "text": [
            "/usr/local/lib/python3.7/dist-packages/keras/optimizer_v2/gradient_descent.py:102: UserWarning: The `lr` argument is deprecated, use `learning_rate` instead.\n",
            "  super(SGD, self).__init__(name, **kwargs)\n"
          ]
        },
        {
          "output_type": "stream",
          "name": "stdout",
          "text": [
            "Epoch 1/25\n",
            "49/49 [==============================] - 10s 169ms/step - loss: 6.0259 - accuracy: 0.3356 - val_loss: 7.0151 - val_accuracy: 0.1666\n",
            "Epoch 2/25\n",
            "49/49 [==============================] - 8s 164ms/step - loss: 4.3545 - accuracy: 0.4480 - val_loss: 5.6585 - val_accuracy: 0.3236\n",
            "Epoch 3/25\n",
            "49/49 [==============================] - 8s 163ms/step - loss: 3.9394 - accuracy: 0.4856 - val_loss: 4.8638 - val_accuracy: 0.3980\n",
            "Epoch 4/25\n",
            "49/49 [==============================] - 8s 163ms/step - loss: 3.6718 - accuracy: 0.5118 - val_loss: 4.4071 - val_accuracy: 0.4363\n",
            "Epoch 5/25\n",
            "49/49 [==============================] - 8s 163ms/step - loss: 3.4614 - accuracy: 0.5358 - val_loss: 4.1561 - val_accuracy: 0.4544\n",
            "Epoch 6/25\n",
            "49/49 [==============================] - 8s 164ms/step - loss: 3.2639 - accuracy: 0.5548 - val_loss: 4.1384 - val_accuracy: 0.4505\n",
            "Epoch 7/25\n",
            "49/49 [==============================] - 8s 163ms/step - loss: 3.1012 - accuracy: 0.5719 - val_loss: 4.0473 - val_accuracy: 0.4553\n",
            "Epoch 8/25\n",
            "49/49 [==============================] - 8s 162ms/step - loss: 2.9447 - accuracy: 0.5870 - val_loss: 3.9262 - val_accuracy: 0.4704\n",
            "Epoch 9/25\n",
            "49/49 [==============================] - 8s 163ms/step - loss: 2.8027 - accuracy: 0.6033 - val_loss: 3.9741 - val_accuracy: 0.4728\n",
            "Epoch 10/25\n",
            "49/49 [==============================] - 8s 163ms/step - loss: 2.6579 - accuracy: 0.6181 - val_loss: 3.9701 - val_accuracy: 0.4750\n",
            "Epoch 11/25\n",
            "49/49 [==============================] - 8s 173ms/step - loss: 2.5287 - accuracy: 0.6345 - val_loss: 3.8973 - val_accuracy: 0.4791\n",
            "Epoch 12/25\n",
            "49/49 [==============================] - 9s 173ms/step - loss: 2.3970 - accuracy: 0.6491 - val_loss: 3.8618 - val_accuracy: 0.4922\n",
            "Epoch 13/25\n",
            "49/49 [==============================] - 8s 163ms/step - loss: 2.2661 - accuracy: 0.6635 - val_loss: 3.9303 - val_accuracy: 0.4879\n",
            "Epoch 14/25\n",
            "49/49 [==============================] - 8s 163ms/step - loss: 2.1472 - accuracy: 0.6753 - val_loss: 3.9497 - val_accuracy: 0.4838\n",
            "Epoch 15/25\n",
            "49/49 [==============================] - 8s 163ms/step - loss: 2.0291 - accuracy: 0.6905 - val_loss: 4.1252 - val_accuracy: 0.4650\n",
            "Epoch 16/25\n",
            "49/49 [==============================] - 8s 162ms/step - loss: 1.9113 - accuracy: 0.7045 - val_loss: 4.0351 - val_accuracy: 0.4887\n",
            "Epoch 17/25\n",
            "49/49 [==============================] - 8s 162ms/step - loss: 1.8031 - accuracy: 0.7174 - val_loss: 4.0542 - val_accuracy: 0.4960\n",
            "Epoch 18/25\n",
            "49/49 [==============================] - 8s 163ms/step - loss: 1.6925 - accuracy: 0.7334 - val_loss: 4.2069 - val_accuracy: 0.4882\n",
            "Epoch 19/25\n",
            "49/49 [==============================] - 8s 163ms/step - loss: 1.5768 - accuracy: 0.7460 - val_loss: 4.1951 - val_accuracy: 0.4849\n",
            "Epoch 20/25\n",
            "49/49 [==============================] - 8s 163ms/step - loss: 1.4716 - accuracy: 0.7603 - val_loss: 4.3481 - val_accuracy: 0.4852\n",
            "Epoch 21/25\n",
            "49/49 [==============================] - 8s 163ms/step - loss: 1.3742 - accuracy: 0.7734 - val_loss: 4.2625 - val_accuracy: 0.4883\n",
            "Epoch 22/25\n",
            "49/49 [==============================] - 8s 163ms/step - loss: 1.2906 - accuracy: 0.7840 - val_loss: 4.6500 - val_accuracy: 0.4612\n",
            "Epoch 23/25\n",
            "49/49 [==============================] - 8s 163ms/step - loss: 1.1825 - accuracy: 0.8025 - val_loss: 4.5619 - val_accuracy: 0.4705\n",
            "Epoch 24/25\n",
            "49/49 [==============================] - 8s 163ms/step - loss: 1.0886 - accuracy: 0.8164 - val_loss: 4.5748 - val_accuracy: 0.4727\n",
            "Epoch 25/25\n",
            "49/49 [==============================] - 8s 163ms/step - loss: 1.0007 - accuracy: 0.8282 - val_loss: 4.6394 - val_accuracy: 0.4794\n"
          ]
        }
      ],
      "source": [
        "import itertools\n",
        "results = {}\n",
        "\n",
        "for i, ce_w in enumerate(ce_weights_list):\n",
        "    print(\"Numbers of exp: %i, ce_weight: %.2f\" % (i, ce_w))\n",
        "\n",
        "    model = build_mlp(input_shape=x_train.shape[1:])\n",
        "    model.summary()\n",
        "    optimizer = keras.optimizers.SGD(lr=LEARNING_RATE, nesterov=True, momentum=MOMENTUM)\n",
        "    \"\"\"Code Here\n",
        "    將自定義的 loss function 加入模型\n",
        "    \"\"\"\n",
        "    model.compile(loss=combined_loss(), metrics=[\"accuracy\"], optimizer=optimizer)\n",
        "\n",
        "    model.fit(x_train, y_train, \n",
        "              epochs=EPOCHS, \n",
        "              batch_size=BATCH_SIZE, \n",
        "              validation_data=(x_test, y_test), \n",
        "              shuffle=True\n",
        "             )\n",
        "    \n",
        "    # Collect results\n",
        "    exp_name_tag = (\"exp-%s\" % (i))\n",
        "    results[exp_name_tag] = {'train-loss': model.history.history[\"loss\"],\n",
        "                             'valid-loss': model.history.history[\"val_loss\"],\n",
        "                             'train-acc': model.history.history[\"accuracy\"],\n",
        "                             'valid-acc': model.history.history[\"val_accuracy\"]}"
      ]
    },
    {
      "cell_type": "code",
      "execution_count": 12,
      "metadata": {
        "colab": {
          "base_uri": "https://localhost:8080/",
          "height": 763
        },
        "id": "ic2gMkcRHkae",
        "outputId": "b1c24439-6bc3-4121-c993-eef25dbc3e58"
      },
      "outputs": [
        {
          "output_type": "display_data",
          "data": {
            "image/png": "[encoded data removed]",
            "text/plain": [
              "<Figure size 576x432 with 1 Axes>"
            ]
          },
          "metadata": {
            "needs_background": "light"
          }
        },
        {
          "output_type": "display_data",
          "data": {
            "image/png": "[encoded data removed]",
            "text/plain": [
              "<Figure size 576x432 with 1 Axes>"
            ]
          },
          "metadata": {
            "needs_background": "light"
          }
        }
      ],
      "source": [
        "import matplotlib.pyplot as plt\n",
        "import matplotlib.cm as mplcm\n",
        "import matplotlib.colors as colors\n",
        "%matplotlib inline\n",
        "NUM_COLORS = len(results.keys())\n",
        "\n",
        "cm = plt.get_cmap('gist_rainbow')\n",
        "cNorm  = colors.Normalize(vmin=0, vmax=NUM_COLORS-1)\n",
        "scalarMap = mplcm.ScalarMappable(norm=cNorm, cmap=cm)\n",
        "color_bar = [scalarMap.to_rgba(i) for i in range(NUM_COLORS)]\n",
        "\n",
        "plt.figure(figsize=(8,6))\n",
        "for i, cond in enumerate(results.keys()):\n",
        "    plt.plot(range(len(results[cond]['train-loss'])),results[cond]['train-loss'], '-', label=cond, color=color_bar[i])\n",
        "    plt.plot(range(len(results[cond]['valid-loss'])),results[cond]['valid-loss'], '--', label=cond, color=color_bar[i])\n",
        "plt.title(\"Loss\")\n",
        "plt.legend(loc='center left', bbox_to_anchor=(1, 0.5))\n",
        "plt.show()\n",
        "\n",
        "plt.figure(figsize=(8,6))\n",
        "for i, cond in enumerate(results.keys()):\n",
        "    plt.plot(range(len(results[cond]['train-acc'])),results[cond]['train-acc'], '-', label=cond, color=color_bar[i])\n",
        "    plt.plot(range(len(results[cond]['valid-acc'])),results[cond]['valid-acc'], '--', label=cond, color=color_bar[i])\n",
        "plt.title(\"Accuracy\")\n",
        "plt.legend(loc='center left', bbox_to_anchor=(1, 0.5))\n",
        "plt.show()"
      ]
    }
  ],
  "metadata": {
    "kernelspec": {
      "display_name": "Python 3",
      "language": "python",
      "name": "python3"
    },
    "language_info": {
      "codemirror_mode": {
        "name": "ipython",
        "version": 3
      },
      "file_extension": ".py",
      "mimetype": "text/x-python",
      "name": "python",
      "nbconvert_exporter": "python",
      "pygments_lexer": "ipython3",
      "version": "3.7.5"
    },
    "colab": {
      "name": "Day089_CustomizedLoss_作業 .ipynb",
      "provenance": [],
      "include_colab_link": true
    }
  },
  "nbformat": 4,
  "nbformat_minor": 0
}