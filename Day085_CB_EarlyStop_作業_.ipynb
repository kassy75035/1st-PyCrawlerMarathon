{
  "cells": [
    {
      "cell_type": "markdown",
      "metadata": {
        "id": "view-in-github",
        "colab_type": "text"
      },
      "source": [
        "<a href=\"https://colab.research.google.com/github/kassy75035/1st-PyCrawlerMarathon/blob/master/Day085_CB_EarlyStop_%E4%BD%9C%E6%A5%AD_.ipynb\" target=\"_parent\"><img src=\"https://colab.research.google.com/assets/colab-badge.svg\" alt=\"Open In Colab\"/></a>"
      ]
    },
    {
      "cell_type": "markdown",
      "metadata": {
        "id": "fqZ2LGMUgHaA"
      },
      "source": [
        "## Work\n",
        "1. 試改變 monitor \"Validation Accuracy\" 並比較結果\n",
        "2. 調整 earlystop 的等待次數至 10, 25 並比較結果"
      ]
    },
    {
      "cell_type": "code",
      "execution_count": 1,
      "metadata": {
        "id": "EQpWQzjqgHaG"
      },
      "outputs": [],
      "source": [
        "import os\n",
        "from tensorflow import keras\n",
        "import matplotlib.pyplot as plt\n",
        "%matplotlib inline\n",
        "\n",
        "\n",
        "# Disable GPU\n",
        "os.environ[\"CUDA_VISIBLE_DEVICES\"] = \"\""
      ]
    },
    {
      "cell_type": "code",
      "execution_count": 2,
      "metadata": {
        "colab": {
          "base_uri": "https://localhost:8080/"
        },
        "id": "GxqTzLe6gHaK",
        "outputId": "7af9d2c7-81dd-4d50-a84b-91f0bc370539"
      },
      "outputs": [
        {
          "output_type": "stream",
          "name": "stdout",
          "text": [
            "Downloading data from https://www.cs.toronto.edu/~kriz/cifar-10-python.tar.gz\n",
            "170500096/170498071 [==============================] - 2s 0us/step\n",
            "170508288/170498071 [==============================] - 2s 0us/step\n"
          ]
        }
      ],
      "source": [
        "train, test = keras.datasets.cifar10.load_data()"
      ]
    },
    {
      "cell_type": "code",
      "execution_count": 3,
      "metadata": {
        "id": "ZzjW4NIzgHaM"
      },
      "outputs": [],
      "source": [
        "## 資料前處理\n",
        "def preproc_x(x, flatten=True):\n",
        "    x = x / 255.\n",
        "    if flatten:\n",
        "        x = x.reshape((len(x), -1))\n",
        "    return x\n",
        "\n",
        "def preproc_y(y, num_classes=10):\n",
        "    if y.shape[-1] == 1:\n",
        "        y = keras.utils.to_categorical(y, num_classes)\n",
        "    return y    "
      ]
    },
    {
      "cell_type": "code",
      "execution_count": 4,
      "metadata": {
        "id": "FaUI-i8cgHaN"
      },
      "outputs": [],
      "source": [
        "x_train, y_train = train\n",
        "x_test, y_test = test\n",
        "\n",
        "# Preproc the inputs\n",
        "x_train = preproc_x(x_train)\n",
        "x_test = preproc_x(x_test)\n",
        "\n",
        "# Preprc the outputs\n",
        "y_train = preproc_y(y_train)\n",
        "y_test = preproc_y(y_test)"
      ]
    },
    {
      "cell_type": "code",
      "execution_count": 5,
      "metadata": {
        "id": "s4YxXFsrgHaP"
      },
      "outputs": [],
      "source": [
        "from keras.layers import BatchNormalization\n",
        "\n",
        "\"\"\"\n",
        "建立神經網路，並加入 BN layer\n",
        "\"\"\"\n",
        "def build_mlp(input_shape, output_units=10, num_neurons=[512, 256, 128]):\n",
        "    input_layer = keras.layers.Input(input_shape)\n",
        "    \n",
        "    for i, n_units in enumerate(num_neurons):\n",
        "        if i == 0:\n",
        "            x = keras.layers.Dense(units=n_units, \n",
        "                                   activation=\"relu\", \n",
        "                                   name=\"hidden_layer\"+str(i+1))(input_layer)\n",
        "            x = BatchNormalization()(x)\n",
        "        else:\n",
        "            x = keras.layers.Dense(units=n_units, \n",
        "                                   activation=\"relu\", \n",
        "                                   name=\"hidden_layer\"+str(i+1))(x)\n",
        "            x = BatchNormalization()(x)\n",
        "    \n",
        "    out = keras.layers.Dense(units=output_units, activation=\"softmax\", name=\"output\")(x)\n",
        "    \n",
        "    model = keras.models.Model(inputs=[input_layer], outputs=[out])\n",
        "    return model"
      ]
    },
    {
      "cell_type": "code",
      "execution_count": 9,
      "metadata": {
        "id": "ZxCqrOWdgHaQ"
      },
      "outputs": [],
      "source": [
        "## 超參數設定\n",
        "LEARNING_RATE = 1e-3\n",
        "EPOCHS = 50\n",
        "BATCH_SIZE = 1024\n",
        "MOMENTUM = 0.95\n",
        "WAITS = [10, 20]"
      ]
    },
    {
      "cell_type": "code",
      "execution_count": 10,
      "metadata": {
        "colab": {
          "base_uri": "https://localhost:8080/"
        },
        "id": "Q5_6F48HgHaR",
        "outputId": "d809b559-3c3a-4ed9-96b7-b215064e41a5"
      },
      "outputs": [
        {
          "output_type": "stream",
          "name": "stdout",
          "text": [
            "Experiment with Early stop size = 10.000000\n",
            "Model: \"model\"\n",
            "_________________________________________________________________\n",
            " Layer (type)                Output Shape              Param #   \n",
            "=================================================================\n",
            " input_1 (InputLayer)        [(None, 3072)]            0         \n",
            "                                                                 \n",
            " hidden_layer1 (Dense)       (None, 512)               1573376   \n",
            "                                                                 \n",
            " batch_normalization (BatchN  (None, 512)              2048      \n",
            " ormalization)                                                   \n",
            "                                                                 \n",
            " hidden_layer2 (Dense)       (None, 256)               131328    \n",
            "                                                                 \n",
            " batch_normalization_1 (Batc  (None, 256)              1024      \n",
            " hNormalization)                                                 \n",
            "                                                                 \n",
            " hidden_layer3 (Dense)       (None, 128)               32896     \n",
            "                                                                 \n",
            " batch_normalization_2 (Batc  (None, 128)              512       \n",
            " hNormalization)                                                 \n",
            "                                                                 \n",
            " output (Dense)              (None, 10)                1290      \n",
            "                                                                 \n",
            "=================================================================\n",
            "Total params: 1,742,474\n",
            "Trainable params: 1,740,682\n",
            "Non-trainable params: 1,792\n",
            "_________________________________________________________________\n"
          ]
        },
        {
          "output_type": "stream",
          "name": "stderr",
          "text": [
            "/usr/local/lib/python3.7/dist-packages/keras/optimizer_v2/gradient_descent.py:102: UserWarning: The `lr` argument is deprecated, use `learning_rate` instead.\n",
            "  super(SGD, self).__init__(name, **kwargs)\n"
          ]
        },
        {
          "output_type": "stream",
          "name": "stdout",
          "text": [
            "Epoch 1/50\n",
            "49/49 [==============================] - 10s 169ms/step - loss: 2.1859 - accuracy: 0.2736 - val_loss: 2.1178 - val_accuracy: 0.2144\n",
            "Epoch 2/50\n",
            "49/49 [==============================] - 8s 163ms/step - loss: 1.7398 - accuracy: 0.3939 - val_loss: 1.9758 - val_accuracy: 0.2944\n",
            "Epoch 3/50\n",
            "49/49 [==============================] - 14s 295ms/step - loss: 1.6166 - accuracy: 0.4352 - val_loss: 1.8110 - val_accuracy: 0.3664\n",
            "Epoch 4/50\n",
            "49/49 [==============================] - 9s 189ms/step - loss: 1.5430 - accuracy: 0.4605 - val_loss: 1.7183 - val_accuracy: 0.3986\n",
            "Epoch 5/50\n",
            "49/49 [==============================] - 10s 199ms/step - loss: 1.4893 - accuracy: 0.4796 - val_loss: 1.6481 - val_accuracy: 0.4223\n",
            "Epoch 6/50\n",
            "49/49 [==============================] - 8s 164ms/step - loss: 1.4422 - accuracy: 0.4964 - val_loss: 1.5927 - val_accuracy: 0.4382\n",
            "Epoch 7/50\n",
            "49/49 [==============================] - 8s 163ms/step - loss: 1.4016 - accuracy: 0.5120 - val_loss: 1.5446 - val_accuracy: 0.4534\n",
            "Epoch 8/50\n",
            "49/49 [==============================] - 8s 163ms/step - loss: 1.3664 - accuracy: 0.5231 - val_loss: 1.5285 - val_accuracy: 0.4542\n",
            "Epoch 9/50\n",
            "49/49 [==============================] - 8s 164ms/step - loss: 1.3344 - accuracy: 0.5360 - val_loss: 1.5095 - val_accuracy: 0.4635\n",
            "Epoch 10/50\n",
            "49/49 [==============================] - 8s 163ms/step - loss: 1.3040 - accuracy: 0.5474 - val_loss: 1.4907 - val_accuracy: 0.4690\n",
            "Epoch 11/50\n",
            "49/49 [==============================] - 8s 162ms/step - loss: 1.2747 - accuracy: 0.5601 - val_loss: 1.4917 - val_accuracy: 0.4700\n",
            "Epoch 12/50\n",
            "49/49 [==============================] - 8s 163ms/step - loss: 1.2498 - accuracy: 0.5661 - val_loss: 1.4718 - val_accuracy: 0.4799\n",
            "Epoch 13/50\n",
            "49/49 [==============================] - 8s 164ms/step - loss: 1.2236 - accuracy: 0.5766 - val_loss: 1.4755 - val_accuracy: 0.4774\n",
            "Epoch 14/50\n",
            "49/49 [==============================] - 9s 187ms/step - loss: 1.1959 - accuracy: 0.5868 - val_loss: 1.4597 - val_accuracy: 0.4845\n",
            "Epoch 15/50\n",
            "49/49 [==============================] - 8s 164ms/step - loss: 1.1724 - accuracy: 0.5956 - val_loss: 1.4660 - val_accuracy: 0.4894\n",
            "Epoch 16/50\n",
            "49/49 [==============================] - 8s 164ms/step - loss: 1.1488 - accuracy: 0.6054 - val_loss: 1.4607 - val_accuracy: 0.4863\n",
            "Epoch 17/50\n",
            "49/49 [==============================] - 8s 163ms/step - loss: 1.1254 - accuracy: 0.6127 - val_loss: 1.4756 - val_accuracy: 0.4868\n",
            "Epoch 18/50\n",
            "49/49 [==============================] - 8s 171ms/step - loss: 1.1037 - accuracy: 0.6216 - val_loss: 1.4624 - val_accuracy: 0.4850\n",
            "Epoch 19/50\n",
            "49/49 [==============================] - 9s 178ms/step - loss: 1.0803 - accuracy: 0.6312 - val_loss: 1.4509 - val_accuracy: 0.4918\n",
            "Epoch 20/50\n",
            "49/49 [==============================] - 8s 165ms/step - loss: 1.0608 - accuracy: 0.6373 - val_loss: 1.4539 - val_accuracy: 0.4961\n",
            "Epoch 21/50\n",
            "49/49 [==============================] - 8s 164ms/step - loss: 1.0367 - accuracy: 0.6471 - val_loss: 1.4666 - val_accuracy: 0.4850\n",
            "Epoch 22/50\n",
            "49/49 [==============================] - 8s 164ms/step - loss: 1.0164 - accuracy: 0.6553 - val_loss: 1.4538 - val_accuracy: 0.4962\n",
            "Epoch 23/50\n",
            "49/49 [==============================] - 8s 164ms/step - loss: 0.9942 - accuracy: 0.6634 - val_loss: 1.4509 - val_accuracy: 0.4948\n",
            "Epoch 24/50\n",
            "49/49 [==============================] - 8s 162ms/step - loss: 0.9724 - accuracy: 0.6720 - val_loss: 1.4638 - val_accuracy: 0.4967\n",
            "Epoch 25/50\n",
            "49/49 [==============================] - 8s 163ms/step - loss: 0.9509 - accuracy: 0.6821 - val_loss: 1.4827 - val_accuracy: 0.4919\n",
            "Epoch 26/50\n",
            "49/49 [==============================] - 8s 163ms/step - loss: 0.9327 - accuracy: 0.6896 - val_loss: 1.4767 - val_accuracy: 0.4916\n",
            "Epoch 27/50\n",
            "49/49 [==============================] - 8s 164ms/step - loss: 0.9123 - accuracy: 0.6951 - val_loss: 1.4666 - val_accuracy: 0.4968\n",
            "Epoch 28/50\n",
            "49/49 [==============================] - 8s 164ms/step - loss: 0.8919 - accuracy: 0.7035 - val_loss: 1.4741 - val_accuracy: 0.4989\n",
            "Epoch 29/50\n",
            "49/49 [==============================] - 8s 162ms/step - loss: 0.8695 - accuracy: 0.7142 - val_loss: 1.4720 - val_accuracy: 0.4983\n",
            "Epoch 30/50\n",
            "49/49 [==============================] - 8s 164ms/step - loss: 0.8494 - accuracy: 0.7218 - val_loss: 1.4880 - val_accuracy: 0.4938\n",
            "Epoch 31/50\n",
            "49/49 [==============================] - 8s 164ms/step - loss: 0.8321 - accuracy: 0.7278 - val_loss: 1.4948 - val_accuracy: 0.4914\n",
            "Epoch 32/50\n",
            "49/49 [==============================] - 8s 165ms/step - loss: 0.8108 - accuracy: 0.7359 - val_loss: 1.5154 - val_accuracy: 0.4938\n",
            "Epoch 33/50\n",
            "49/49 [==============================] - 8s 164ms/step - loss: 0.7926 - accuracy: 0.7425 - val_loss: 1.5042 - val_accuracy: 0.4965\n",
            "Epoch 34/50\n",
            "49/49 [==============================] - 8s 164ms/step - loss: 0.7715 - accuracy: 0.7543 - val_loss: 1.5048 - val_accuracy: 0.5001\n",
            "Epoch 35/50\n",
            "49/49 [==============================] - 8s 164ms/step - loss: 0.7514 - accuracy: 0.7613 - val_loss: 1.5338 - val_accuracy: 0.4930\n",
            "Epoch 36/50\n",
            "49/49 [==============================] - 8s 163ms/step - loss: 0.7354 - accuracy: 0.7662 - val_loss: 1.5291 - val_accuracy: 0.4897\n",
            "Epoch 37/50\n",
            "49/49 [==============================] - 8s 162ms/step - loss: 0.7144 - accuracy: 0.7750 - val_loss: 1.5646 - val_accuracy: 0.4888\n",
            "Epoch 38/50\n",
            "49/49 [==============================] - 8s 163ms/step - loss: 0.6956 - accuracy: 0.7837 - val_loss: 1.5508 - val_accuracy: 0.4944\n",
            "Epoch 39/50\n",
            "49/49 [==============================] - 8s 163ms/step - loss: 0.6769 - accuracy: 0.7905 - val_loss: 1.5697 - val_accuracy: 0.4842\n",
            "Epoch 40/50\n",
            "49/49 [==============================] - 8s 163ms/step - loss: 0.6583 - accuracy: 0.7981 - val_loss: 1.5743 - val_accuracy: 0.4873\n",
            "Epoch 41/50\n",
            "49/49 [==============================] - 8s 162ms/step - loss: 0.6396 - accuracy: 0.8061 - val_loss: 1.5830 - val_accuracy: 0.4903\n",
            "Epoch 42/50\n",
            "49/49 [==============================] - 8s 161ms/step - loss: 0.6231 - accuracy: 0.8106 - val_loss: 1.6262 - val_accuracy: 0.4800\n",
            "Epoch 43/50\n",
            "49/49 [==============================] - 8s 162ms/step - loss: 0.6047 - accuracy: 0.8198 - val_loss: 1.6071 - val_accuracy: 0.4896\n",
            "Epoch 44/50\n",
            "49/49 [==============================] - 8s 161ms/step - loss: 0.5860 - accuracy: 0.8261 - val_loss: 1.6257 - val_accuracy: 0.4879\n",
            "Epoch 44: early stopping\n",
            "Experiment with Early stop size = 20.000000\n",
            "Model: \"model\"\n",
            "_________________________________________________________________\n",
            " Layer (type)                Output Shape              Param #   \n",
            "=================================================================\n",
            " input_1 (InputLayer)        [(None, 3072)]            0         \n",
            "                                                                 \n",
            " hidden_layer1 (Dense)       (None, 512)               1573376   \n",
            "                                                                 \n",
            " batch_normalization (BatchN  (None, 512)              2048      \n",
            " ormalization)                                                   \n",
            "                                                                 \n",
            " hidden_layer2 (Dense)       (None, 256)               131328    \n",
            "                                                                 \n",
            " batch_normalization_1 (Batc  (None, 256)              1024      \n",
            " hNormalization)                                                 \n",
            "                                                                 \n",
            " hidden_layer3 (Dense)       (None, 128)               32896     \n",
            "                                                                 \n",
            " batch_normalization_2 (Batc  (None, 128)              512       \n",
            " hNormalization)                                                 \n",
            "                                                                 \n",
            " output (Dense)              (None, 10)                1290      \n",
            "                                                                 \n",
            "=================================================================\n",
            "Total params: 1,742,474\n",
            "Trainable params: 1,740,682\n",
            "Non-trainable params: 1,792\n",
            "_________________________________________________________________\n",
            "Epoch 1/50\n",
            "49/49 [==============================] - 9s 173ms/step - loss: 2.1951 - accuracy: 0.2737 - val_loss: 2.1009 - val_accuracy: 0.2450\n",
            "Epoch 2/50\n",
            "49/49 [==============================] - 8s 163ms/step - loss: 1.7375 - accuracy: 0.3971 - val_loss: 1.9352 - val_accuracy: 0.3171\n",
            "Epoch 3/50\n",
            "49/49 [==============================] - 8s 163ms/step - loss: 1.6186 - accuracy: 0.4370 - val_loss: 1.8148 - val_accuracy: 0.3715\n",
            "Epoch 4/50\n",
            "49/49 [==============================] - 8s 163ms/step - loss: 1.5471 - accuracy: 0.4589 - val_loss: 1.7190 - val_accuracy: 0.4031\n",
            "Epoch 5/50\n",
            "49/49 [==============================] - 8s 163ms/step - loss: 1.4909 - accuracy: 0.4811 - val_loss: 1.6446 - val_accuracy: 0.4312\n",
            "Epoch 6/50\n",
            "49/49 [==============================] - 8s 163ms/step - loss: 1.4471 - accuracy: 0.4954 - val_loss: 1.5896 - val_accuracy: 0.4473\n",
            "Epoch 7/50\n",
            "49/49 [==============================] - 8s 163ms/step - loss: 1.4089 - accuracy: 0.5101 - val_loss: 1.5714 - val_accuracy: 0.4518\n",
            "Epoch 8/50\n",
            "49/49 [==============================] - 8s 163ms/step - loss: 1.3746 - accuracy: 0.5228 - val_loss: 1.5172 - val_accuracy: 0.4643\n",
            "Epoch 9/50\n",
            "49/49 [==============================] - 8s 163ms/step - loss: 1.3401 - accuracy: 0.5343 - val_loss: 1.5026 - val_accuracy: 0.4744\n",
            "Epoch 10/50\n",
            "49/49 [==============================] - 8s 163ms/step - loss: 1.3096 - accuracy: 0.5466 - val_loss: 1.4951 - val_accuracy: 0.4752\n",
            "Epoch 11/50\n",
            "49/49 [==============================] - 8s 164ms/step - loss: 1.2816 - accuracy: 0.5575 - val_loss: 1.4831 - val_accuracy: 0.4817\n",
            "Epoch 12/50\n",
            "49/49 [==============================] - 8s 162ms/step - loss: 1.2524 - accuracy: 0.5685 - val_loss: 1.4726 - val_accuracy: 0.4800\n",
            "Epoch 13/50\n",
            "49/49 [==============================] - 8s 164ms/step - loss: 1.2269 - accuracy: 0.5775 - val_loss: 1.4651 - val_accuracy: 0.4872\n",
            "Epoch 14/50\n",
            "49/49 [==============================] - 8s 164ms/step - loss: 1.2032 - accuracy: 0.5856 - val_loss: 1.4610 - val_accuracy: 0.4901\n",
            "Epoch 15/50\n",
            "49/49 [==============================] - 8s 163ms/step - loss: 1.1789 - accuracy: 0.5946 - val_loss: 1.4563 - val_accuracy: 0.4910\n",
            "Epoch 16/50\n",
            "49/49 [==============================] - 8s 164ms/step - loss: 1.1542 - accuracy: 0.6044 - val_loss: 1.4542 - val_accuracy: 0.4928\n",
            "Epoch 17/50\n",
            "49/49 [==============================] - 8s 163ms/step - loss: 1.1319 - accuracy: 0.6135 - val_loss: 1.4483 - val_accuracy: 0.4948\n",
            "Epoch 18/50\n",
            "49/49 [==============================] - 8s 163ms/step - loss: 1.1083 - accuracy: 0.6212 - val_loss: 1.4435 - val_accuracy: 0.4955\n",
            "Epoch 19/50\n",
            "49/49 [==============================] - 8s 162ms/step - loss: 1.0879 - accuracy: 0.6306 - val_loss: 1.4449 - val_accuracy: 0.4963\n",
            "Epoch 20/50\n",
            "49/49 [==============================] - 8s 162ms/step - loss: 1.0647 - accuracy: 0.6379 - val_loss: 1.4503 - val_accuracy: 0.4915\n",
            "Epoch 21/50\n",
            "49/49 [==============================] - 8s 162ms/step - loss: 1.0450 - accuracy: 0.6453 - val_loss: 1.4481 - val_accuracy: 0.4944\n",
            "Epoch 22/50\n",
            "49/49 [==============================] - 8s 163ms/step - loss: 1.0231 - accuracy: 0.6534 - val_loss: 1.4594 - val_accuracy: 0.4900\n",
            "Epoch 23/50\n",
            "49/49 [==============================] - 8s 164ms/step - loss: 1.0019 - accuracy: 0.6602 - val_loss: 1.4381 - val_accuracy: 0.4978\n",
            "Epoch 24/50\n",
            "49/49 [==============================] - 8s 162ms/step - loss: 0.9811 - accuracy: 0.6697 - val_loss: 1.4536 - val_accuracy: 0.4958\n",
            "Epoch 25/50\n",
            "49/49 [==============================] - 8s 163ms/step - loss: 0.9607 - accuracy: 0.6781 - val_loss: 1.4631 - val_accuracy: 0.4935\n",
            "Epoch 26/50\n",
            "49/49 [==============================] - 8s 163ms/step - loss: 0.9384 - accuracy: 0.6864 - val_loss: 1.4507 - val_accuracy: 0.4945\n",
            "Epoch 27/50\n",
            "49/49 [==============================] - 8s 163ms/step - loss: 0.9180 - accuracy: 0.6944 - val_loss: 1.4639 - val_accuracy: 0.4973\n",
            "Epoch 28/50\n",
            "49/49 [==============================] - 8s 163ms/step - loss: 0.8969 - accuracy: 0.7011 - val_loss: 1.4529 - val_accuracy: 0.4974\n",
            "Epoch 29/50\n",
            "49/49 [==============================] - 8s 163ms/step - loss: 0.8765 - accuracy: 0.7107 - val_loss: 1.4629 - val_accuracy: 0.4997\n",
            "Epoch 30/50\n",
            "49/49 [==============================] - 8s 162ms/step - loss: 0.8575 - accuracy: 0.7167 - val_loss: 1.4597 - val_accuracy: 0.5015\n",
            "Epoch 31/50\n",
            "49/49 [==============================] - 8s 161ms/step - loss: 0.8365 - accuracy: 0.7246 - val_loss: 1.4915 - val_accuracy: 0.4971\n",
            "Epoch 32/50\n",
            "49/49 [==============================] - 8s 162ms/step - loss: 0.8180 - accuracy: 0.7329 - val_loss: 1.4797 - val_accuracy: 0.4978\n",
            "Epoch 33/50\n",
            "49/49 [==============================] - 8s 163ms/step - loss: 0.7963 - accuracy: 0.7417 - val_loss: 1.4811 - val_accuracy: 0.4970\n",
            "Epoch 34/50\n",
            "49/49 [==============================] - 8s 163ms/step - loss: 0.7778 - accuracy: 0.7482 - val_loss: 1.5138 - val_accuracy: 0.4920\n",
            "Epoch 35/50\n",
            "49/49 [==============================] - 8s 163ms/step - loss: 0.7585 - accuracy: 0.7568 - val_loss: 1.4980 - val_accuracy: 0.4968\n",
            "Epoch 36/50\n",
            "49/49 [==============================] - 8s 162ms/step - loss: 0.7396 - accuracy: 0.7622 - val_loss: 1.5176 - val_accuracy: 0.4959\n",
            "Epoch 37/50\n",
            "49/49 [==============================] - 8s 163ms/step - loss: 0.7197 - accuracy: 0.7705 - val_loss: 1.5235 - val_accuracy: 0.4878\n",
            "Epoch 38/50\n",
            "49/49 [==============================] - 8s 162ms/step - loss: 0.7019 - accuracy: 0.7785 - val_loss: 1.5294 - val_accuracy: 0.4963\n",
            "Epoch 39/50\n",
            "49/49 [==============================] - 8s 163ms/step - loss: 0.6804 - accuracy: 0.7889 - val_loss: 1.5369 - val_accuracy: 0.4967\n",
            "Epoch 40/50\n",
            "49/49 [==============================] - 8s 161ms/step - loss: 0.6622 - accuracy: 0.7961 - val_loss: 1.5433 - val_accuracy: 0.4910\n",
            "Epoch 41/50\n",
            "49/49 [==============================] - 8s 162ms/step - loss: 0.6442 - accuracy: 0.8039 - val_loss: 1.5543 - val_accuracy: 0.4906\n",
            "Epoch 42/50\n",
            "49/49 [==============================] - 8s 163ms/step - loss: 0.6266 - accuracy: 0.8091 - val_loss: 1.5567 - val_accuracy: 0.4959\n",
            "Epoch 43/50\n",
            "49/49 [==============================] - 8s 163ms/step - loss: 0.6091 - accuracy: 0.8171 - val_loss: 1.5821 - val_accuracy: 0.4973\n",
            "Epoch 44/50\n",
            "49/49 [==============================] - 8s 163ms/step - loss: 0.5892 - accuracy: 0.8251 - val_loss: 1.5928 - val_accuracy: 0.4957\n",
            "Epoch 45/50\n",
            "49/49 [==============================] - 8s 163ms/step - loss: 0.5708 - accuracy: 0.8332 - val_loss: 1.5966 - val_accuracy: 0.4888\n",
            "Epoch 46/50\n",
            "49/49 [==============================] - 8s 161ms/step - loss: 0.5580 - accuracy: 0.8361 - val_loss: 1.6254 - val_accuracy: 0.4887\n",
            "Epoch 47/50\n",
            "49/49 [==============================] - 8s 160ms/step - loss: 0.5373 - accuracy: 0.8440 - val_loss: 1.6180 - val_accuracy: 0.4882\n",
            "Epoch 48/50\n",
            "49/49 [==============================] - 8s 160ms/step - loss: 0.5209 - accuracy: 0.8519 - val_loss: 1.6325 - val_accuracy: 0.4867\n",
            "Epoch 49/50\n",
            "49/49 [==============================] - 8s 161ms/step - loss: 0.5017 - accuracy: 0.8600 - val_loss: 1.6474 - val_accuracy: 0.4827\n",
            "Epoch 50/50\n",
            "49/49 [==============================] - 8s 160ms/step - loss: 0.4864 - accuracy: 0.8637 - val_loss: 1.6769 - val_accuracy: 0.4843\n",
            "Epoch 50: early stopping\n"
          ]
        }
      ],
      "source": [
        "# 載入 Callbacks\n",
        "\"\"\"Code Here\n",
        "設定 callbacks: Earlystop\n",
        "\"\"\"\n",
        "\n",
        "results = {}\n",
        "\"\"\"Code Here\n",
        "撰寫你的訓練流程並將結果用 dictionary 紀錄\n",
        "\"\"\"\n",
        "from keras.callbacks import EarlyStopping\n",
        "\n",
        "for wait in WAITS:\n",
        "    earlystop = EarlyStopping(monitor=\"val_accuracy\", \n",
        "                          patience=wait, \n",
        "                          verbose=1\n",
        "                          )\n",
        "    keras.backend.clear_session() # 把舊的 Graph 清掉\n",
        "    print(\"Experiment with Early stop size = %f\" % (wait))\n",
        "    model = build_mlp(input_shape=x_train.shape[1:])\n",
        "    model.summary()\n",
        "    optimizer = keras.optimizers.SGD(lr=LEARNING_RATE, nesterov=True, momentum=MOMENTUM)\n",
        "    model.compile(loss=\"categorical_crossentropy\", metrics=[\"accuracy\"], optimizer=optimizer)\n",
        "\n",
        "\n",
        "    model.fit(x_train, y_train, \n",
        "              epochs=EPOCHS, \n",
        "              batch_size=BATCH_SIZE, \n",
        "              validation_data=(x_test, y_test), \n",
        "              shuffle=True,\n",
        "              callbacks=[earlystop])\n",
        "    \n",
        "    # Collect results\n",
        "    train_loss = model.history.history[\"loss\"]\n",
        "    valid_loss = model.history.history[\"val_loss\"]\n",
        "    train_acc = model.history.history[\"accuracy\"]\n",
        "    valid_acc = model.history.history[\"val_accuracy\"]\n",
        "    \n",
        "    exp_name_tag = (f\"Early stop size: {wait}\")\n",
        "    results[exp_name_tag] = {'train-loss': train_loss,\n",
        "                             'valid-loss': valid_loss,\n",
        "                             'train-acc': train_acc,\n",
        "                             'valid-acc': valid_acc}"
      ]
    },
    {
      "cell_type": "code",
      "execution_count": 11,
      "metadata": {
        "colab": {
          "base_uri": "https://localhost:8080/",
          "height": 763
        },
        "id": "u8beS-gCgHaS",
        "outputId": "0e0e93bf-10f5-4e6b-8e98-875068dc6fa2"
      },
      "outputs": [
        {
          "output_type": "display_data",
          "data": {
            "image/png": "[encoded data removed]",
            "text/plain": [
              "<Figure size 576x432 with 1 Axes>"
            ]
          },
          "metadata": {
            "needs_background": "light"
          }
        },
        {
          "output_type": "display_data",
          "data": {
            "image/png": "[encoded data removed]",
            "text/plain": [
              "<Figure size 576x432 with 1 Axes>"
            ]
          },
          "metadata": {
            "needs_background": "light"
          }
        }
      ],
      "source": [
        "import matplotlib.pyplot as plt\n",
        "%matplotlib inline\n",
        "color_bar = [\"r\", \"g\", \"b\", \"y\", \"m\", \"k\"]\n",
        "\n",
        "plt.figure(figsize=(8,6))\n",
        "for i, cond in enumerate(results.keys()):\n",
        "    plt.plot(range(len(results[cond]['train-loss'])),results[cond]['train-loss'], '-', label=cond, color=color_bar[i])\n",
        "    plt.plot(range(len(results[cond]['valid-loss'])),results[cond]['valid-loss'], '--', label=cond, color=color_bar[i])\n",
        "plt.title(\"Loss\")\n",
        "plt.legend()\n",
        "plt.show()\n",
        "\n",
        "plt.figure(figsize=(8,6))\n",
        "for i, cond in enumerate(results.keys()):\n",
        "    plt.plot(range(len(results[cond]['train-acc'])),results[cond]['train-acc'], '-', label=cond, color=color_bar[i])\n",
        "    plt.plot(range(len(results[cond]['valid-acc'])),results[cond]['valid-acc'], '--', label=cond, color=color_bar[i])\n",
        "plt.title(\"Accuracy\")\n",
        "plt.legend()\n",
        "plt.show()"
      ]
    }
  ],
  "metadata": {
    "kernelspec": {
      "display_name": "Python 3",
      "language": "python",
      "name": "python3"
    },
    "language_info": {
      "codemirror_mode": {
        "name": "ipython",
        "version": 3
      },
      "file_extension": ".py",
      "mimetype": "text/x-python",
      "name": "python",
      "nbconvert_exporter": "python",
      "pygments_lexer": "ipython3",
      "version": "3.7.5"
    },
    "colab": {
      "name": "Day085_CB_EarlyStop_作業 .ipynb",
      "provenance": [],
      "include_colab_link": true
    }
  },
  "nbformat": 4,
  "nbformat_minor": 0
}